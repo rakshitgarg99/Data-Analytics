{
 "cells": [
  {
   "cell_type": "markdown",
   "metadata": {
    "id": "58nxqnyMOy7D"
   },
   "source": [
    "## Ques2: Based on PPMI matrix"
   ]
  },
  {
   "cell_type": "code",
   "execution_count": 1,
   "metadata": {
    "executionInfo": {
     "elapsed": 708,
     "status": "ok",
     "timestamp": 1638119731031,
     "user": {
      "displayName": "Rakshit Rakshit",
      "photoUrl": "https://lh3.googleusercontent.com/a/default-user=s64",
      "userId": "00326556457200679977"
     },
     "user_tz": -330
    },
    "id": "8-aWfezSJDNY"
   },
   "outputs": [],
   "source": [
    "import numpy as np\n",
    "import pandas as pd\n",
    "import matplotlib.pyplot as plt"
   ]
  },
  {
   "cell_type": "code",
   "execution_count": 2,
   "metadata": {
    "colab": {
     "base_uri": "https://localhost:8080/"
    },
    "executionInfo": {
     "elapsed": 1817,
     "status": "ok",
     "timestamp": 1638119732844,
     "user": {
      "displayName": "Rakshit Rakshit",
      "photoUrl": "https://lh3.googleusercontent.com/a/default-user=s64",
      "userId": "00326556457200679977"
     },
     "user_tz": -330
    },
    "id": "DZZBxFpDJDNc",
    "outputId": "fcd306e7-9afc-4504-a512-f73c436f2661"
   },
   "outputs": [
    {
     "name": "stdout",
     "output_type": "stream",
     "text": [
      "                                                  review sentiment\n",
      "0      One of the other reviewers has mentioned that ...  positive\n",
      "1      A wonderful little production. <br /><br />The...  positive\n",
      "2      I thought this was a wonderful way to spend ti...  positive\n",
      "3      Basically there's a family where a little boy ...  negative\n",
      "4      Petter Mattei's \"Love in the Time of Money\" is...  positive\n",
      "...                                                  ...       ...\n",
      "49995  I thought this movie did a down right good job...  positive\n",
      "49996  Bad plot, bad dialogue, bad acting, idiotic di...  negative\n",
      "49997  I am a Catholic taught in parochial elementary...  negative\n",
      "49998  I'm going to have to disagree with the previou...  negative\n",
      "49999  No one expects the Star Trek movies to be high...  negative\n",
      "\n",
      "[50000 rows x 2 columns]\n"
     ]
    }
   ],
   "source": [
    "df = pd.read_csv(\"./IMDB Dataset.csv\")\n",
    "print(df)"
   ]
  },
  {
   "cell_type": "code",
   "execution_count": 3,
   "metadata": {
    "colab": {
     "base_uri": "https://localhost:8080/"
    },
    "executionInfo": {
     "elapsed": 22,
     "status": "ok",
     "timestamp": 1638119732846,
     "user": {
      "displayName": "Rakshit Rakshit",
      "photoUrl": "https://lh3.googleusercontent.com/a/default-user=s64",
      "userId": "00326556457200679977"
     },
     "user_tz": -330
    },
    "id": "AioSz0vJJDNd",
    "outputId": "35412565-acaf-41ba-e00d-d45a1f0aa8fe"
   },
   "outputs": [
    {
     "name": "stdout",
     "output_type": "stream",
     "text": [
      "                                                review\n",
      "0    One of the other reviewers has mentioned that ...\n",
      "1    A wonderful little production. <br /><br />The...\n",
      "2    I thought this was a wonderful way to spend ti...\n",
      "3    Basically there's a family where a little boy ...\n",
      "4    Petter Mattei's \"Love in the Time of Money\" is...\n",
      "..                                                 ...\n",
      "995  Nothing is sacred. Just ask Ernie Fosselius. T...\n",
      "996  I hated it. I hate self-aware pretentious inan...\n",
      "997  I usually try to be professional and construct...\n",
      "998  If you like me is going to see this in a film ...\n",
      "999  This is like a zoology textbook, given that it...\n",
      "\n",
      "[1000 rows x 1 columns]\n"
     ]
    }
   ],
   "source": [
    "df_new = df\n",
    "df_new = df_new.drop(['sentiment'], axis=1) # sentiment dropped\n",
    "df_new = df_new[:1000] # first 1000 reviews\n",
    "print(df_new)"
   ]
  },
  {
   "cell_type": "code",
   "execution_count": 4,
   "metadata": {
    "executionInfo": {
     "elapsed": 20,
     "status": "ok",
     "timestamp": 1638119732847,
     "user": {
      "displayName": "Rakshit Rakshit",
      "photoUrl": "https://lh3.googleusercontent.com/a/default-user=s64",
      "userId": "00326556457200679977"
     },
     "user_tz": -330
    },
    "id": "36GcitfAJDNe"
   },
   "outputs": [],
   "source": [
    "#Create a list of list named Corpus whose each list is a review (document) from IMDB dataset\n",
    "corpus=[]\n",
    "for i in range(len(df_new)):\n",
    "    corpus.append(df_new['review'][i])"
   ]
  },
  {
   "cell_type": "code",
   "execution_count": 5,
   "metadata": {
    "colab": {
     "base_uri": "https://localhost:8080/",
     "height": 139
    },
    "executionInfo": {
     "elapsed": 20,
     "status": "ok",
     "timestamp": 1638119732848,
     "user": {
      "displayName": "Rakshit Rakshit",
      "photoUrl": "https://lh3.googleusercontent.com/a/default-user=s64",
      "userId": "00326556457200679977"
     },
     "user_tz": -330
    },
    "id": "hWBrJhdaJDNe",
    "outputId": "60508cae-dd3b-4f2f-bd19-9c9f48806ccb"
   },
   "outputs": [
    {
     "data": {
      "text/plain": [
       "\"One of the other reviewers has mentioned that after watching just 1 Oz episode you'll be hooked. They are right, as this is exactly what happened with me.<br /><br />The first thing that struck me about Oz was its brutality and unflinching scenes of violence, which set in right from the word GO. Trust me, this is not a show for the faint hearted or timid. This show pulls no punches with regards to drugs, sex or violence. Its is hardcore, in the classic use of the word.<br /><br />It is called OZ as that is the nickname given to the Oswald Maximum Security State Penitentary. It focuses mainly on Emerald City, an experimental section of the prison where all the cells have glass fronts and face inwards, so privacy is not high on the agenda. Em City is home to many..Aryans, Muslims, gangstas, Latinos, Christians, Italians, Irish and more....so scuffles, death stares, dodgy dealings and shady agreements are never far away.<br /><br />I would say the main appeal of the show is due to the fact that it goes where other shows wouldn't dare. Forget pretty pictures painted for mainstream audiences, forget charm, forget romance...OZ doesn't mess around. The first episode I ever saw struck me as so nasty it was surreal, I couldn't say I was ready for it, but as I watched more, I developed a taste for Oz, and got accustomed to the high levels of graphic violence. Not just violence, but injustice (crooked guards who'll be sold out for a nickel, inmates who'll kill on order and get away with it, well mannered, middle class inmates being turned into prison bitches due to their lack of street skills or prison experience) Watching Oz, you may become comfortable with what is uncomfortable viewing....thats if you can get in touch with your darker side.\""
      ]
     },
     "execution_count": 5,
     "metadata": {},
     "output_type": "execute_result"
    }
   ],
   "source": [
    "corpus[0]"
   ]
  },
  {
   "cell_type": "code",
   "execution_count": 6,
   "metadata": {
    "executionInfo": {
     "elapsed": 10,
     "status": "ok",
     "timestamp": 1638119734554,
     "user": {
      "displayName": "Rakshit Rakshit",
      "photoUrl": "https://lh3.googleusercontent.com/a/default-user=s64",
      "userId": "00326556457200679977"
     },
     "user_tz": -330
    },
    "id": "NZZ3H9lwJDNf"
   },
   "outputs": [],
   "source": [
    "# remove non-aplha characters and converting words to lower case in each document\n",
    "corpus_final=[]\n",
    "for i in range(len(corpus)):\n",
    "    corpus_final.append(\" \".join([word.lower() for word in corpus[i].split() if word.isalpha()]))"
   ]
  },
  {
   "cell_type": "code",
   "execution_count": 7,
   "metadata": {
    "executionInfo": {
     "elapsed": 11,
     "status": "ok",
     "timestamp": 1638119734555,
     "user": {
      "displayName": "Rakshit Rakshit",
      "photoUrl": "https://lh3.googleusercontent.com/a/default-user=s64",
      "userId": "00326556457200679977"
     },
     "user_tz": -330
    },
    "id": "XlOfK0skJDNf"
   },
   "outputs": [],
   "source": [
    "# Creating binary bow vector as dictionary of dictionary\n",
    "# Each external dictionary will have key as document number and internal dictionaries have the\n",
    "# keys as the word present in the document\n",
    "document_frequency={}\n",
    "for i in range(len(corpus_final)):\n",
    "    word_frequency={}\n",
    "    for word in corpus_final[i].split():\n",
    "        word_frequency[word]=1\n",
    "    document_frequency[i]=word_frequency"
   ]
  },
  {
   "cell_type": "code",
   "execution_count": 8,
   "metadata": {
    "colab": {
     "base_uri": "https://localhost:8080/"
    },
    "executionInfo": {
     "elapsed": 11,
     "status": "ok",
     "timestamp": 1638119734556,
     "user": {
      "displayName": "Rakshit Rakshit",
      "photoUrl": "https://lh3.googleusercontent.com/a/default-user=s64",
      "userId": "00326556457200679977"
     },
     "user_tz": -330
    },
    "id": "i8yO-yFGJDNg",
    "outputId": "55f24761-ecd5-4b8f-c8ab-21ba69ee71d0"
   },
   "outputs": [
    {
     "data": {
      "text/plain": [
       "{'one': 1,\n",
       " 'of': 1,\n",
       " 'the': 1,\n",
       " 'other': 1,\n",
       " 'reviewers': 1,\n",
       " 'has': 1,\n",
       " 'mentioned': 1,\n",
       " 'that': 1,\n",
       " 'after': 1,\n",
       " 'watching': 1,\n",
       " 'just': 1,\n",
       " 'oz': 1,\n",
       " 'episode': 1,\n",
       " 'be': 1,\n",
       " 'they': 1,\n",
       " 'are': 1,\n",
       " 'as': 1,\n",
       " 'this': 1,\n",
       " 'is': 1,\n",
       " 'exactly': 1,\n",
       " 'what': 1,\n",
       " 'happened': 1,\n",
       " 'with': 1,\n",
       " 'first': 1,\n",
       " 'thing': 1,\n",
       " 'struck': 1,\n",
       " 'me': 1,\n",
       " 'about': 1,\n",
       " 'was': 1,\n",
       " 'its': 1,\n",
       " 'brutality': 1,\n",
       " 'and': 1,\n",
       " 'unflinching': 1,\n",
       " 'scenes': 1,\n",
       " 'which': 1,\n",
       " 'set': 1,\n",
       " 'in': 1,\n",
       " 'right': 1,\n",
       " 'from': 1,\n",
       " 'word': 1,\n",
       " 'trust': 1,\n",
       " 'not': 1,\n",
       " 'a': 1,\n",
       " 'show': 1,\n",
       " 'for': 1,\n",
       " 'faint': 1,\n",
       " 'hearted': 1,\n",
       " 'or': 1,\n",
       " 'pulls': 1,\n",
       " 'no': 1,\n",
       " 'punches': 1,\n",
       " 'regards': 1,\n",
       " 'to': 1,\n",
       " 'sex': 1,\n",
       " 'classic': 1,\n",
       " 'use': 1,\n",
       " 'called': 1,\n",
       " 'nickname': 1,\n",
       " 'given': 1,\n",
       " 'oswald': 1,\n",
       " 'maximum': 1,\n",
       " 'security': 1,\n",
       " 'state': 1,\n",
       " 'it': 1,\n",
       " 'focuses': 1,\n",
       " 'mainly': 1,\n",
       " 'on': 1,\n",
       " 'emerald': 1,\n",
       " 'an': 1,\n",
       " 'experimental': 1,\n",
       " 'section': 1,\n",
       " 'prison': 1,\n",
       " 'where': 1,\n",
       " 'all': 1,\n",
       " 'cells': 1,\n",
       " 'have': 1,\n",
       " 'glass': 1,\n",
       " 'fronts': 1,\n",
       " 'face': 1,\n",
       " 'so': 1,\n",
       " 'privacy': 1,\n",
       " 'high': 1,\n",
       " 'em': 1,\n",
       " 'city': 1,\n",
       " 'home': 1,\n",
       " 'irish': 1,\n",
       " 'death': 1,\n",
       " 'dodgy': 1,\n",
       " 'dealings': 1,\n",
       " 'shady': 1,\n",
       " 'agreements': 1,\n",
       " 'never': 1,\n",
       " 'far': 1,\n",
       " 'would': 1,\n",
       " 'say': 1,\n",
       " 'main': 1,\n",
       " 'appeal': 1,\n",
       " 'due': 1,\n",
       " 'fact': 1,\n",
       " 'goes': 1,\n",
       " 'shows': 1,\n",
       " 'forget': 1,\n",
       " 'pretty': 1,\n",
       " 'pictures': 1,\n",
       " 'painted': 1,\n",
       " 'mainstream': 1,\n",
       " 'mess': 1,\n",
       " 'i': 1,\n",
       " 'ever': 1,\n",
       " 'saw': 1,\n",
       " 'nasty': 1,\n",
       " 'ready': 1,\n",
       " 'but': 1,\n",
       " 'watched': 1,\n",
       " 'developed': 1,\n",
       " 'taste': 1,\n",
       " 'got': 1,\n",
       " 'accustomed': 1,\n",
       " 'levels': 1,\n",
       " 'graphic': 1,\n",
       " 'injustice': 1,\n",
       " 'guards': 1,\n",
       " 'sold': 1,\n",
       " 'out': 1,\n",
       " 'inmates': 1,\n",
       " 'kill': 1,\n",
       " 'order': 1,\n",
       " 'get': 1,\n",
       " 'away': 1,\n",
       " 'well': 1,\n",
       " 'middle': 1,\n",
       " 'class': 1,\n",
       " 'being': 1,\n",
       " 'turned': 1,\n",
       " 'into': 1,\n",
       " 'bitches': 1,\n",
       " 'their': 1,\n",
       " 'lack': 1,\n",
       " 'street': 1,\n",
       " 'skills': 1,\n",
       " 'you': 1,\n",
       " 'may': 1,\n",
       " 'become': 1,\n",
       " 'comfortable': 1,\n",
       " 'uncomfortable': 1,\n",
       " 'if': 1,\n",
       " 'can': 1,\n",
       " 'touch': 1,\n",
       " 'your': 1,\n",
       " 'darker': 1}"
      ]
     },
     "execution_count": 8,
     "metadata": {},
     "output_type": "execute_result"
    }
   ],
   "source": [
    "document_frequency[0]"
   ]
  },
  {
   "cell_type": "code",
   "execution_count": 9,
   "metadata": {
    "colab": {
     "base_uri": "https://localhost:8080/"
    },
    "executionInfo": {
     "elapsed": 9,
     "status": "ok",
     "timestamp": 1638119734557,
     "user": {
      "displayName": "Rakshit Rakshit",
      "photoUrl": "https://lh3.googleusercontent.com/a/default-user=s64",
      "userId": "00326556457200679977"
     },
     "user_tz": -330
    },
    "id": "g_y2N9-VJDNh",
    "outputId": "a444f6dc-a3d8-44b1-f686-ba7cac28610a"
   },
   "outputs": [
    {
     "data": {
      "text/plain": [
       "(14719, 1000)"
      ]
     },
     "execution_count": 9,
     "metadata": {},
     "output_type": "execute_result"
    }
   ],
   "source": [
    "#Converting dicitonaries of dicitonaries into DataFrame; \n",
    "# setting NaN as 0 (for terms which are not present in particular document)\n",
    "bow = pd.DataFrame(document_frequency)\n",
    "bow.fillna(0,inplace=True)\n",
    "bow.shape"
   ]
  },
  {
   "cell_type": "code",
   "execution_count": 10,
   "metadata": {
    "executionInfo": {
     "elapsed": 1805,
     "status": "ok",
     "timestamp": 1638119737910,
     "user": {
      "displayName": "Rakshit Rakshit",
      "photoUrl": "https://lh3.googleusercontent.com/a/default-user=s64",
      "userId": "00326556457200679977"
     },
     "user_tz": -330
    },
    "id": "AYIBonDEJDNk"
   },
   "outputs": [],
   "source": [
    "cooccurrence_matrix = bow.values.dot(bow.values.T)"
   ]
  },
  {
   "cell_type": "code",
   "execution_count": 11,
   "metadata": {
    "executionInfo": {
     "elapsed": 12,
     "status": "ok",
     "timestamp": 1638119737910,
     "user": {
      "displayName": "Rakshit Rakshit",
      "photoUrl": "https://lh3.googleusercontent.com/a/default-user=s64",
      "userId": "00326556457200679977"
     },
     "user_tz": -330
    },
    "id": "ECLS41gPJDNk"
   },
   "outputs": [],
   "source": [
    "np.fill_diagonal(cooccurrence_matrix,0)"
   ]
  },
  {
   "cell_type": "code",
   "execution_count": 12,
   "metadata": {
    "colab": {
     "base_uri": "https://localhost:8080/"
    },
    "executionInfo": {
     "elapsed": 12,
     "status": "ok",
     "timestamp": 1638119737911,
     "user": {
      "displayName": "Rakshit Rakshit",
      "photoUrl": "https://lh3.googleusercontent.com/a/default-user=s64",
      "userId": "00326556457200679977"
     },
     "user_tz": -330
    },
    "id": "vjDBlkRiJDNk",
    "outputId": "4e6d4f8c-abdc-4b8c-a8b1-d3833b268e85"
   },
   "outputs": [
    {
     "data": {
      "text/plain": [
       "(14719, 14719)"
      ]
     },
     "execution_count": 12,
     "metadata": {},
     "output_type": "execute_result"
    }
   ],
   "source": [
    "cooccurrence_matrix.shape"
   ]
  },
  {
   "cell_type": "code",
   "execution_count": 13,
   "metadata": {
    "colab": {
     "base_uri": "https://localhost:8080/"
    },
    "executionInfo": {
     "elapsed": 10,
     "status": "ok",
     "timestamp": 1638119737912,
     "user": {
      "displayName": "Rakshit Rakshit",
      "photoUrl": "https://lh3.googleusercontent.com/a/default-user=s64",
      "userId": "00326556457200679977"
     },
     "user_tz": -330
    },
    "id": "mVs162QyJDNl",
    "outputId": "32941ce0-3671-4ff9-b259-27ea111c78cd"
   },
   "outputs": [
    {
     "data": {
      "text/plain": [
       "array([[  0., 496., 500., ...,   1.,   1.,   1.],\n",
       "       [496.,   0., 950., ...,   1.,   1.,   1.],\n",
       "       [500., 950.,   0., ...,   1.,   1.,   1.],\n",
       "       ...,\n",
       "       [  1.,   1.,   1., ...,   0.,   1.,   1.],\n",
       "       [  1.,   1.,   1., ...,   1.,   0.,   1.],\n",
       "       [  1.,   1.,   1., ...,   1.,   1.,   0.]])"
      ]
     },
     "execution_count": 13,
     "metadata": {},
     "output_type": "execute_result"
    }
   ],
   "source": [
    "cooccurrence_matrix"
   ]
  },
  {
   "cell_type": "code",
   "execution_count": 16,
   "metadata": {
    "executionInfo": {
     "elapsed": 5,
     "status": "ok",
     "timestamp": 1638119739647,
     "user": {
      "displayName": "Rakshit Rakshit",
      "photoUrl": "https://lh3.googleusercontent.com/a/default-user=s64",
      "userId": "00326556457200679977"
     },
     "user_tz": -330
    },
    "id": "4WjxjxHkKpdO"
   },
   "outputs": [],
   "source": [
    "import scipy.sparse"
   ]
  },
  {
   "cell_type": "code",
   "execution_count": 17,
   "metadata": {
    "executionInfo": {
     "elapsed": 4,
     "status": "ok",
     "timestamp": 1638119739647,
     "user": {
      "displayName": "Rakshit Rakshit",
      "photoUrl": "https://lh3.googleusercontent.com/a/default-user=s64",
      "userId": "00326556457200679977"
     },
     "user_tz": -330
    },
    "id": "-mqOYhkzJDNm"
   },
   "outputs": [],
   "source": [
    "def PPMI(C):\n",
    "    # Total count.\n",
    "    Z = float(C.sum())\n",
    "    # Sum each row (along columns).\n",
    "    Zr = np.array(bow.sum(axis=1), dtype=np.float64).flatten()\n",
    "    \n",
    "    # Get indices of relevant elements.\n",
    "    ii, jj = C.nonzero()  # row, column indices\n",
    "    Cij = np.array(C[ii,jj], dtype=np.float64).flatten()\n",
    "\n",
    "    # PMI equation.\n",
    "    pmi = np.log(Cij * 1000 / (Zr[ii] * Zr[jj]))\n",
    "\n",
    "    # Truncate to positive only.\n",
    "    ppmi = np.maximum(0, pmi)  # take positive only\n",
    "    # Re-format as sparse matrix.\n",
    "    ret = scipy.sparse.csc_matrix((ppmi, (ii,jj)), shape=C.shape, dtype=np.float64)\n",
    "    return ret"
   ]
  },
  {
   "cell_type": "code",
   "execution_count": 18,
   "metadata": {
    "executionInfo": {
     "elapsed": 1747,
     "status": "ok",
     "timestamp": 1638119742864,
     "user": {
      "displayName": "Rakshit Rakshit",
      "photoUrl": "https://lh3.googleusercontent.com/a/default-user=s64",
      "userId": "00326556457200679977"
     },
     "user_tz": -330
    },
    "id": "ukQZn8HwJDNm"
   },
   "outputs": [],
   "source": [
    "ppmi_matrix = PPMI(cooccurrence_matrix)"
   ]
  },
  {
   "cell_type": "code",
   "execution_count": 19,
   "metadata": {
    "colab": {
     "base_uri": "https://localhost:8080/"
    },
    "executionInfo": {
     "elapsed": 17,
     "status": "ok",
     "timestamp": 1638119742865,
     "user": {
      "displayName": "Rakshit Rakshit",
      "photoUrl": "https://lh3.googleusercontent.com/a/default-user=s64",
      "userId": "00326556457200679977"
     },
     "user_tz": -330
    },
    "id": "gFhHDhmUJDNn",
    "outputId": "a551bdbc-536f-4a7d-8148-27d26d1c5bfd"
   },
   "outputs": [
    {
     "name": "stdout",
     "output_type": "stream",
     "text": [
      "  (1, 0)\t0.037061433173913166\n",
      "  (2, 0)\t0.00402006966289006\n",
      "  (3, 0)\t0.21284674583684154\n",
      "  (4, 0)\t0.0\n",
      "  (5, 0)\t0.13921588613386576\n",
      "  (6, 0)\t0.0780447050108633\n",
      "  (7, 0)\t0.06091582274789613\n",
      "  (8, 0)\t0.18644914755796427\n",
      "  (9, 0)\t0.0\n",
      "  (10, 0)\t0.04594145962644595\n",
      "  (11, 0)\t0.6911491778972721\n",
      "  (12, 0)\t0.20931109100453393\n",
      "  (13, 0)\t0.10002361172963863\n",
      "  (14, 0)\t0.07210996949104888\n",
      "  (15, 0)\t0.07876335398178533\n",
      "  (16, 0)\t0.10466671924457756\n",
      "  (17, 0)\t0.02549135883512455\n",
      "  (18, 0)\t0.028773656004080547\n",
      "  (19, 0)\t0.38366447814931165\n",
      "  (20, 0)\t0.09899330888448937\n",
      "  (21, 0)\t0.0\n",
      "  (22, 0)\t0.08189997221917465\n",
      "  (23, 0)\t0.048432850964218815\n",
      "  (24, 0)\t0.16308174769677558\n",
      "  (25, 0)\t0.28568406978910793\n",
      "  :\t:\n",
      "  (12616, 14718)\t6.214608098422191\n",
      "  (12851, 14718)\t6.214608098422191\n",
      "  (13018, 14718)\t6.214608098422191\n",
      "  (13292, 14718)\t6.214608098422191\n",
      "  (13909, 14718)\t5.809142990314028\n",
      "  (13959, 14718)\t5.809142990314028\n",
      "  (14132, 14718)\t6.214608098422191\n",
      "  (14700, 14718)\t6.907755278982137\n",
      "  (14701, 14718)\t6.907755278982137\n",
      "  (14702, 14718)\t6.907755278982137\n",
      "  (14703, 14718)\t6.907755278982137\n",
      "  (14704, 14718)\t6.907755278982137\n",
      "  (14705, 14718)\t6.907755278982137\n",
      "  (14706, 14718)\t6.907755278982137\n",
      "  (14707, 14718)\t6.907755278982137\n",
      "  (14708, 14718)\t6.907755278982137\n",
      "  (14709, 14718)\t6.907755278982137\n",
      "  (14710, 14718)\t6.907755278982137\n",
      "  (14711, 14718)\t6.907755278982137\n",
      "  (14712, 14718)\t6.907755278982137\n",
      "  (14713, 14718)\t6.907755278982137\n",
      "  (14714, 14718)\t6.907755278982137\n",
      "  (14715, 14718)\t6.907755278982137\n",
      "  (14716, 14718)\t6.907755278982137\n",
      "  (14717, 14718)\t6.907755278982137\n"
     ]
    }
   ],
   "source": [
    "print(ppmi_matrix)"
   ]
  },
  {
   "cell_type": "code",
   "execution_count": 20,
   "metadata": {
    "executionInfo": {
     "elapsed": 13,
     "status": "ok",
     "timestamp": 1638119742866,
     "user": {
      "displayName": "Rakshit Rakshit",
      "photoUrl": "https://lh3.googleusercontent.com/a/default-user=s64",
      "userId": "00326556457200679977"
     },
     "user_tz": -330
    },
    "id": "-pOm_SFISWb2"
   },
   "outputs": [],
   "source": [
    "ppmi = ppmi_matrix.toarray()"
   ]
  },
  {
   "cell_type": "code",
   "execution_count": 21,
   "metadata": {
    "colab": {
     "base_uri": "https://localhost:8080/",
     "height": 443
    },
    "executionInfo": {
     "elapsed": 13,
     "status": "ok",
     "timestamp": 1638119742867,
     "user": {
      "displayName": "Rakshit Rakshit",
      "photoUrl": "https://lh3.googleusercontent.com/a/default-user=s64",
      "userId": "00326556457200679977"
     },
     "user_tz": -330
    },
    "id": "1Lf_E21AM3vb",
    "outputId": "1be93f0d-31f8-4658-9313-b2e427487a6d"
   },
   "outputs": [
    {
     "data": {
      "text/html": [
       "<div>\n",
       "<style scoped>\n",
       "    .dataframe tbody tr th:only-of-type {\n",
       "        vertical-align: middle;\n",
       "    }\n",
       "\n",
       "    .dataframe tbody tr th {\n",
       "        vertical-align: top;\n",
       "    }\n",
       "\n",
       "    .dataframe thead th {\n",
       "        text-align: right;\n",
       "    }\n",
       "</style>\n",
       "<table border=\"1\" class=\"dataframe\">\n",
       "  <thead>\n",
       "    <tr style=\"text-align: right;\">\n",
       "      <th></th>\n",
       "      <th>one</th>\n",
       "      <th>of</th>\n",
       "      <th>the</th>\n",
       "      <th>other</th>\n",
       "      <th>reviewers</th>\n",
       "      <th>has</th>\n",
       "      <th>mentioned</th>\n",
       "      <th>that</th>\n",
       "      <th>after</th>\n",
       "      <th>watching</th>\n",
       "      <th>...</th>\n",
       "      <th>cameraman</th>\n",
       "      <th>microphones</th>\n",
       "      <th>faintest</th>\n",
       "      <th>handguns</th>\n",
       "      <th>hesitation</th>\n",
       "      <th>offices</th>\n",
       "      <th>intuition</th>\n",
       "      <th>stubborn</th>\n",
       "      <th>masking</th>\n",
       "      <th>planes</th>\n",
       "    </tr>\n",
       "  </thead>\n",
       "  <tbody>\n",
       "    <tr>\n",
       "      <th>one</th>\n",
       "      <td>0.000000</td>\n",
       "      <td>0.037061</td>\n",
       "      <td>0.004020</td>\n",
       "      <td>0.212847</td>\n",
       "      <td>0.000000</td>\n",
       "      <td>0.139216</td>\n",
       "      <td>0.078045</td>\n",
       "      <td>0.060916</td>\n",
       "      <td>0.186449</td>\n",
       "      <td>0.000000</td>\n",
       "      <td>...</td>\n",
       "      <td>0.691149</td>\n",
       "      <td>0.691149</td>\n",
       "      <td>0.691149</td>\n",
       "      <td>0.691149</td>\n",
       "      <td>0.691149</td>\n",
       "      <td>0.691149</td>\n",
       "      <td>0.691149</td>\n",
       "      <td>0.691149</td>\n",
       "      <td>0.691149</td>\n",
       "      <td>0.691149</td>\n",
       "    </tr>\n",
       "    <tr>\n",
       "      <th>of</th>\n",
       "      <td>0.037061</td>\n",
       "      <td>0.000000</td>\n",
       "      <td>0.001816</td>\n",
       "      <td>0.030425</td>\n",
       "      <td>0.047092</td>\n",
       "      <td>0.026312</td>\n",
       "      <td>0.047092</td>\n",
       "      <td>0.012742</td>\n",
       "      <td>0.023781</td>\n",
       "      <td>0.000000</td>\n",
       "      <td>...</td>\n",
       "      <td>0.047092</td>\n",
       "      <td>0.047092</td>\n",
       "      <td>0.047092</td>\n",
       "      <td>0.047092</td>\n",
       "      <td>0.047092</td>\n",
       "      <td>0.047092</td>\n",
       "      <td>0.047092</td>\n",
       "      <td>0.047092</td>\n",
       "      <td>0.047092</td>\n",
       "      <td>0.047092</td>\n",
       "    </tr>\n",
       "    <tr>\n",
       "      <th>the</th>\n",
       "      <td>0.004020</td>\n",
       "      <td>0.001816</td>\n",
       "      <td>0.000000</td>\n",
       "      <td>0.006018</td>\n",
       "      <td>0.006018</td>\n",
       "      <td>0.003444</td>\n",
       "      <td>0.006018</td>\n",
       "      <td>0.003417</td>\n",
       "      <td>0.001399</td>\n",
       "      <td>0.006018</td>\n",
       "      <td>...</td>\n",
       "      <td>0.006018</td>\n",
       "      <td>0.006018</td>\n",
       "      <td>0.006018</td>\n",
       "      <td>0.006018</td>\n",
       "      <td>0.006018</td>\n",
       "      <td>0.006018</td>\n",
       "      <td>0.006018</td>\n",
       "      <td>0.006018</td>\n",
       "      <td>0.006018</td>\n",
       "      <td>0.006018</td>\n",
       "    </tr>\n",
       "    <tr>\n",
       "      <th>other</th>\n",
       "      <td>0.212847</td>\n",
       "      <td>0.030425</td>\n",
       "      <td>0.006018</td>\n",
       "      <td>0.000000</td>\n",
       "      <td>0.166055</td>\n",
       "      <td>0.267423</td>\n",
       "      <td>0.437988</td>\n",
       "      <td>0.100303</td>\n",
       "      <td>0.329380</td>\n",
       "      <td>0.078433</td>\n",
       "      <td>...</td>\n",
       "      <td>0.000000</td>\n",
       "      <td>0.000000</td>\n",
       "      <td>0.000000</td>\n",
       "      <td>0.000000</td>\n",
       "      <td>0.000000</td>\n",
       "      <td>0.000000</td>\n",
       "      <td>0.000000</td>\n",
       "      <td>0.000000</td>\n",
       "      <td>0.000000</td>\n",
       "      <td>0.000000</td>\n",
       "    </tr>\n",
       "    <tr>\n",
       "      <th>reviewers</th>\n",
       "      <td>0.000000</td>\n",
       "      <td>0.047092</td>\n",
       "      <td>0.006018</td>\n",
       "      <td>0.166055</td>\n",
       "      <td>0.000000</td>\n",
       "      <td>0.384560</td>\n",
       "      <td>1.783791</td>\n",
       "      <td>0.261365</td>\n",
       "      <td>0.275095</td>\n",
       "      <td>1.056511</td>\n",
       "      <td>...</td>\n",
       "      <td>0.000000</td>\n",
       "      <td>0.000000</td>\n",
       "      <td>0.000000</td>\n",
       "      <td>0.000000</td>\n",
       "      <td>0.000000</td>\n",
       "      <td>0.000000</td>\n",
       "      <td>0.000000</td>\n",
       "      <td>0.000000</td>\n",
       "      <td>0.000000</td>\n",
       "      <td>0.000000</td>\n",
       "    </tr>\n",
       "    <tr>\n",
       "      <th>...</th>\n",
       "      <td>...</td>\n",
       "      <td>...</td>\n",
       "      <td>...</td>\n",
       "      <td>...</td>\n",
       "      <td>...</td>\n",
       "      <td>...</td>\n",
       "      <td>...</td>\n",
       "      <td>...</td>\n",
       "      <td>...</td>\n",
       "      <td>...</td>\n",
       "      <td>...</td>\n",
       "      <td>...</td>\n",
       "      <td>...</td>\n",
       "      <td>...</td>\n",
       "      <td>...</td>\n",
       "      <td>...</td>\n",
       "      <td>...</td>\n",
       "      <td>...</td>\n",
       "      <td>...</td>\n",
       "      <td>...</td>\n",
       "      <td>...</td>\n",
       "    </tr>\n",
       "    <tr>\n",
       "      <th>offices</th>\n",
       "      <td>0.691149</td>\n",
       "      <td>0.047092</td>\n",
       "      <td>0.006018</td>\n",
       "      <td>0.000000</td>\n",
       "      <td>0.000000</td>\n",
       "      <td>0.944176</td>\n",
       "      <td>0.000000</td>\n",
       "      <td>0.261365</td>\n",
       "      <td>0.000000</td>\n",
       "      <td>0.000000</td>\n",
       "      <td>...</td>\n",
       "      <td>6.907755</td>\n",
       "      <td>6.907755</td>\n",
       "      <td>6.907755</td>\n",
       "      <td>6.907755</td>\n",
       "      <td>6.907755</td>\n",
       "      <td>0.000000</td>\n",
       "      <td>6.907755</td>\n",
       "      <td>6.907755</td>\n",
       "      <td>6.907755</td>\n",
       "      <td>6.907755</td>\n",
       "    </tr>\n",
       "    <tr>\n",
       "      <th>intuition</th>\n",
       "      <td>0.691149</td>\n",
       "      <td>0.047092</td>\n",
       "      <td>0.006018</td>\n",
       "      <td>0.000000</td>\n",
       "      <td>0.000000</td>\n",
       "      <td>0.944176</td>\n",
       "      <td>0.000000</td>\n",
       "      <td>0.261365</td>\n",
       "      <td>0.000000</td>\n",
       "      <td>0.000000</td>\n",
       "      <td>...</td>\n",
       "      <td>6.907755</td>\n",
       "      <td>6.907755</td>\n",
       "      <td>6.907755</td>\n",
       "      <td>6.907755</td>\n",
       "      <td>6.907755</td>\n",
       "      <td>6.907755</td>\n",
       "      <td>0.000000</td>\n",
       "      <td>6.907755</td>\n",
       "      <td>6.907755</td>\n",
       "      <td>6.907755</td>\n",
       "    </tr>\n",
       "    <tr>\n",
       "      <th>stubborn</th>\n",
       "      <td>0.691149</td>\n",
       "      <td>0.047092</td>\n",
       "      <td>0.006018</td>\n",
       "      <td>0.000000</td>\n",
       "      <td>0.000000</td>\n",
       "      <td>0.944176</td>\n",
       "      <td>0.000000</td>\n",
       "      <td>0.261365</td>\n",
       "      <td>0.000000</td>\n",
       "      <td>0.000000</td>\n",
       "      <td>...</td>\n",
       "      <td>6.907755</td>\n",
       "      <td>6.907755</td>\n",
       "      <td>6.907755</td>\n",
       "      <td>6.907755</td>\n",
       "      <td>6.907755</td>\n",
       "      <td>6.907755</td>\n",
       "      <td>6.907755</td>\n",
       "      <td>0.000000</td>\n",
       "      <td>6.907755</td>\n",
       "      <td>6.907755</td>\n",
       "    </tr>\n",
       "    <tr>\n",
       "      <th>masking</th>\n",
       "      <td>0.691149</td>\n",
       "      <td>0.047092</td>\n",
       "      <td>0.006018</td>\n",
       "      <td>0.000000</td>\n",
       "      <td>0.000000</td>\n",
       "      <td>0.944176</td>\n",
       "      <td>0.000000</td>\n",
       "      <td>0.261365</td>\n",
       "      <td>0.000000</td>\n",
       "      <td>0.000000</td>\n",
       "      <td>...</td>\n",
       "      <td>6.907755</td>\n",
       "      <td>6.907755</td>\n",
       "      <td>6.907755</td>\n",
       "      <td>6.907755</td>\n",
       "      <td>6.907755</td>\n",
       "      <td>6.907755</td>\n",
       "      <td>6.907755</td>\n",
       "      <td>6.907755</td>\n",
       "      <td>0.000000</td>\n",
       "      <td>6.907755</td>\n",
       "    </tr>\n",
       "    <tr>\n",
       "      <th>planes</th>\n",
       "      <td>0.691149</td>\n",
       "      <td>0.047092</td>\n",
       "      <td>0.006018</td>\n",
       "      <td>0.000000</td>\n",
       "      <td>0.000000</td>\n",
       "      <td>0.944176</td>\n",
       "      <td>0.000000</td>\n",
       "      <td>0.261365</td>\n",
       "      <td>0.000000</td>\n",
       "      <td>0.000000</td>\n",
       "      <td>...</td>\n",
       "      <td>6.907755</td>\n",
       "      <td>6.907755</td>\n",
       "      <td>6.907755</td>\n",
       "      <td>6.907755</td>\n",
       "      <td>6.907755</td>\n",
       "      <td>6.907755</td>\n",
       "      <td>6.907755</td>\n",
       "      <td>6.907755</td>\n",
       "      <td>6.907755</td>\n",
       "      <td>0.000000</td>\n",
       "    </tr>\n",
       "  </tbody>\n",
       "</table>\n",
       "<p>14719 rows × 14719 columns</p>\n",
       "</div>"
      ],
      "text/plain": [
       "                one        of       the     other  reviewers       has  \\\n",
       "one        0.000000  0.037061  0.004020  0.212847   0.000000  0.139216   \n",
       "of         0.037061  0.000000  0.001816  0.030425   0.047092  0.026312   \n",
       "the        0.004020  0.001816  0.000000  0.006018   0.006018  0.003444   \n",
       "other      0.212847  0.030425  0.006018  0.000000   0.166055  0.267423   \n",
       "reviewers  0.000000  0.047092  0.006018  0.166055   0.000000  0.384560   \n",
       "...             ...       ...       ...       ...        ...       ...   \n",
       "offices    0.691149  0.047092  0.006018  0.000000   0.000000  0.944176   \n",
       "intuition  0.691149  0.047092  0.006018  0.000000   0.000000  0.944176   \n",
       "stubborn   0.691149  0.047092  0.006018  0.000000   0.000000  0.944176   \n",
       "masking    0.691149  0.047092  0.006018  0.000000   0.000000  0.944176   \n",
       "planes     0.691149  0.047092  0.006018  0.000000   0.000000  0.944176   \n",
       "\n",
       "           mentioned      that     after  watching  ...  cameraman  \\\n",
       "one         0.078045  0.060916  0.186449  0.000000  ...   0.691149   \n",
       "of          0.047092  0.012742  0.023781  0.000000  ...   0.047092   \n",
       "the         0.006018  0.003417  0.001399  0.006018  ...   0.006018   \n",
       "other       0.437988  0.100303  0.329380  0.078433  ...   0.000000   \n",
       "reviewers   1.783791  0.261365  0.275095  1.056511  ...   0.000000   \n",
       "...              ...       ...       ...       ...  ...        ...   \n",
       "offices     0.000000  0.261365  0.000000  0.000000  ...   6.907755   \n",
       "intuition   0.000000  0.261365  0.000000  0.000000  ...   6.907755   \n",
       "stubborn    0.000000  0.261365  0.000000  0.000000  ...   6.907755   \n",
       "masking     0.000000  0.261365  0.000000  0.000000  ...   6.907755   \n",
       "planes      0.000000  0.261365  0.000000  0.000000  ...   6.907755   \n",
       "\n",
       "           microphones  faintest  handguns  hesitation   offices  intuition  \\\n",
       "one           0.691149  0.691149  0.691149    0.691149  0.691149   0.691149   \n",
       "of            0.047092  0.047092  0.047092    0.047092  0.047092   0.047092   \n",
       "the           0.006018  0.006018  0.006018    0.006018  0.006018   0.006018   \n",
       "other         0.000000  0.000000  0.000000    0.000000  0.000000   0.000000   \n",
       "reviewers     0.000000  0.000000  0.000000    0.000000  0.000000   0.000000   \n",
       "...                ...       ...       ...         ...       ...        ...   \n",
       "offices       6.907755  6.907755  6.907755    6.907755  0.000000   6.907755   \n",
       "intuition     6.907755  6.907755  6.907755    6.907755  6.907755   0.000000   \n",
       "stubborn      6.907755  6.907755  6.907755    6.907755  6.907755   6.907755   \n",
       "masking       6.907755  6.907755  6.907755    6.907755  6.907755   6.907755   \n",
       "planes        6.907755  6.907755  6.907755    6.907755  6.907755   6.907755   \n",
       "\n",
       "           stubborn   masking    planes  \n",
       "one        0.691149  0.691149  0.691149  \n",
       "of         0.047092  0.047092  0.047092  \n",
       "the        0.006018  0.006018  0.006018  \n",
       "other      0.000000  0.000000  0.000000  \n",
       "reviewers  0.000000  0.000000  0.000000  \n",
       "...             ...       ...       ...  \n",
       "offices    6.907755  6.907755  6.907755  \n",
       "intuition  6.907755  6.907755  6.907755  \n",
       "stubborn   0.000000  6.907755  6.907755  \n",
       "masking    6.907755  0.000000  6.907755  \n",
       "planes     6.907755  6.907755  0.000000  \n",
       "\n",
       "[14719 rows x 14719 columns]"
      ]
     },
     "execution_count": 21,
     "metadata": {},
     "output_type": "execute_result"
    }
   ],
   "source": [
    "ppmi_df = pd.DataFrame(ppmi, index=bow.index, columns=bow.index, dtype='float')\n",
    "ppmi_df"
   ]
  },
  {
   "cell_type": "markdown",
   "metadata": {
    "id": "W3IQ22xUNc4u"
   },
   "source": [
    "### Find word embeddings of the PPMI matrix of dimensionality 500 using SVD decomposition"
   ]
  },
  {
   "cell_type": "code",
   "execution_count": 22,
   "metadata": {},
   "outputs": [],
   "source": [
    "import cupy as cp"
   ]
  },
  {
   "cell_type": "code",
   "execution_count": 23,
   "metadata": {},
   "outputs": [],
   "source": [
    "matrix = cp.array(ppmi)"
   ]
  },
  {
   "cell_type": "markdown",
   "metadata": {
    "executionInfo": {
     "elapsed": 6,
     "status": "ok",
     "timestamp": 1638115128226,
     "user": {
      "displayName": "Rakshit Rakshit",
      "photoUrl": "https://lh3.googleusercontent.com/a/default-user=s64",
      "userId": "00326556457200679977"
     },
     "user_tz": -330
    },
    "id": "yQ04FvcLOy7S"
   },
   "source": [
    "### Find eigen values, eigen vectors of ppmi matrix"
   ]
  },
  {
   "cell_type": "code",
   "execution_count": 25,
   "metadata": {
    "executionInfo": {
     "elapsed": 151364,
     "status": "ok",
     "timestamp": 1638119901245,
     "user": {
      "displayName": "Rakshit Rakshit",
      "photoUrl": "https://lh3.googleusercontent.com/a/default-user=s64",
      "userId": "00326556457200679977"
     },
     "user_tz": -330
    },
    "id": "-YA62ju0Oy7T"
   },
   "outputs": [],
   "source": [
    "eig_val, eig_vec = cp.linalg.eigh(matrix)"
   ]
  },
  {
   "cell_type": "code",
   "execution_count": 26,
   "metadata": {
    "colab": {
     "base_uri": "https://localhost:8080/"
    },
    "executionInfo": {
     "elapsed": 395,
     "status": "ok",
     "timestamp": 1638119915683,
     "user": {
      "displayName": "Rakshit Rakshit",
      "photoUrl": "https://lh3.googleusercontent.com/a/default-user=s64",
      "userId": "00326556457200679977"
     },
     "user_tz": -330
    },
    "id": "bEYVARIbOy7T",
    "outputId": "bf9a769e-7e66-4607-a1b8-114f547e64a0"
   },
   "outputs": [
    {
     "data": {
      "text/plain": [
       "array([-706.23774456, -148.93911982, -139.42984955, ...,  901.35557275,\n",
       "        944.60902141, 1895.01881295])"
      ]
     },
     "execution_count": 26,
     "metadata": {},
     "output_type": "execute_result"
    }
   ],
   "source": [
    "eig_val"
   ]
  },
  {
   "cell_type": "code",
   "execution_count": 27,
   "metadata": {
    "executionInfo": {
     "elapsed": 1060,
     "status": "ok",
     "timestamp": 1638119923084,
     "user": {
      "displayName": "Rakshit Rakshit",
      "photoUrl": "https://lh3.googleusercontent.com/a/default-user=s64",
      "userId": "00326556457200679977"
     },
     "user_tz": -330
    },
    "id": "k1ku3IadOy7T"
   },
   "outputs": [],
   "source": [
    "idx = eig_val.argsort()[::-1]\n",
    "eig_val = eig_val[idx]\n",
    "eig_vec = eig_vec[:,idx]"
   ]
  },
  {
   "cell_type": "code",
   "execution_count": 28,
   "metadata": {
    "executionInfo": {
     "elapsed": 424,
     "status": "ok",
     "timestamp": 1638120099631,
     "user": {
      "displayName": "Rakshit Rakshit",
      "photoUrl": "https://lh3.googleusercontent.com/a/default-user=s64",
      "userId": "00326556457200679977"
     },
     "user_tz": -330
    },
    "id": "a9hT8YnxOy7T"
   },
   "outputs": [],
   "source": [
    "eig_val500 = eig_val[:500]"
   ]
  },
  {
   "cell_type": "code",
   "execution_count": 29,
   "metadata": {
    "executionInfo": {
     "elapsed": 3,
     "status": "ok",
     "timestamp": 1638119935071,
     "user": {
      "displayName": "Rakshit Rakshit",
      "photoUrl": "https://lh3.googleusercontent.com/a/default-user=s64",
      "userId": "00326556457200679977"
     },
     "user_tz": -330
    },
    "id": "8Qoy3rLSOy7U"
   },
   "outputs": [],
   "source": [
    "eig_vec500 = eig_vec[:500,:]"
   ]
  },
  {
   "cell_type": "markdown",
   "metadata": {
    "id": "EkxSQ2V4Oy7U"
   },
   "source": [
    "### S,U,V matrices of SVD\n",
    "### A = U*S*V "
   ]
  },
  {
   "cell_type": "code",
   "execution_count": 32,
   "metadata": {
    "colab": {
     "base_uri": "https://localhost:8080/"
    },
    "executionInfo": {
     "elapsed": 398,
     "status": "ok",
     "timestamp": 1638119954425,
     "user": {
      "displayName": "Rakshit Rakshit",
      "photoUrl": "https://lh3.googleusercontent.com/a/default-user=s64",
      "userId": "00326556457200679977"
     },
     "user_tz": -330
    },
    "id": "oNWu0LBoOy7U",
    "outputId": "5056db18-312f-442c-96ea-e85465066c0f"
   },
   "outputs": [],
   "source": [
    "S = cp.zeros([500,500])\n",
    "cp.fill_diagonal(S,cp.sqrt(eig_val500))"
   ]
  },
  {
   "cell_type": "code",
   "execution_count": 33,
   "metadata": {
    "executionInfo": {
     "elapsed": 431,
     "status": "ok",
     "timestamp": 1638119957189,
     "user": {
      "displayName": "Rakshit Rakshit",
      "photoUrl": "https://lh3.googleusercontent.com/a/default-user=s64",
      "userId": "00326556457200679977"
     },
     "user_tz": -330
    },
    "id": "EX94rxEXOy7U"
   },
   "outputs": [],
   "source": [
    "V = eig_vec500.T"
   ]
  },
  {
   "cell_type": "code",
   "execution_count": 34,
   "metadata": {
    "colab": {
     "base_uri": "https://localhost:8080/"
    },
    "executionInfo": {
     "elapsed": 409,
     "status": "ok",
     "timestamp": 1638119961953,
     "user": {
      "displayName": "Rakshit Rakshit",
      "photoUrl": "https://lh3.googleusercontent.com/a/default-user=s64",
      "userId": "00326556457200679977"
     },
     "user_tz": -330
    },
    "id": "Jiy9Saz9Oy7V",
    "outputId": "3a0a49db-3cb5-4ce9-ef96-8c0396591509"
   },
   "outputs": [
    {
     "name": "stdout",
     "output_type": "stream",
     "text": [
      "(500,) (500, 500) (14719, 500)\n"
     ]
    }
   ],
   "source": [
    "print(eig_val500.shape, S.shape, V.shape)"
   ]
  },
  {
   "cell_type": "code",
   "execution_count": 35,
   "metadata": {
    "colab": {
     "base_uri": "https://localhost:8080/"
    },
    "executionInfo": {
     "elapsed": 523,
     "status": "ok",
     "timestamp": 1638120127221,
     "user": {
      "displayName": "Rakshit Rakshit",
      "photoUrl": "https://lh3.googleusercontent.com/a/default-user=s64",
      "userId": "00326556457200679977"
     },
     "user_tz": -330
    },
    "id": "DUYETAe8kDtj",
    "outputId": "6d397fb4-69a9-49fb-a62b-3397b38c40b3"
   },
   "outputs": [
    {
     "data": {
      "text/plain": [
       "(500,)"
      ]
     },
     "execution_count": 35,
     "metadata": {},
     "output_type": "execute_result"
    }
   ],
   "source": [
    "sigma = eig_val500\n",
    "sigma.shape"
   ]
  },
  {
   "cell_type": "code",
   "execution_count": 36,
   "metadata": {},
   "outputs": [
    {
     "name": "stdout",
     "output_type": "stream",
     "text": [
      "(14719, 500) (14719, 14719)\n"
     ]
    }
   ],
   "source": [
    "print(V.shape, matrix.shape)"
   ]
  },
  {
   "cell_type": "code",
   "execution_count": 37,
   "metadata": {
    "executionInfo": {
     "elapsed": 1488,
     "status": "ok",
     "timestamp": 1638120179101,
     "user": {
      "displayName": "Rakshit Rakshit",
      "photoUrl": "https://lh3.googleusercontent.com/a/default-user=s64",
      "userId": "00326556457200679977"
     },
     "user_tz": -330
    },
    "id": "VUMctmXGOy7V"
   },
   "outputs": [],
   "source": [
    "U = (1/sigma)*(cp.dot(matrix,V))"
   ]
  },
  {
   "cell_type": "code",
   "execution_count": 38,
   "metadata": {},
   "outputs": [
    {
     "data": {
      "text/plain": [
       "(14719, 500)"
      ]
     },
     "execution_count": 38,
     "metadata": {},
     "output_type": "execute_result"
    }
   ],
   "source": [
    "U.shape"
   ]
  },
  {
   "cell_type": "code",
   "execution_count": 39,
   "metadata": {},
   "outputs": [],
   "source": [
    "import cudf as cd"
   ]
  },
  {
   "cell_type": "code",
   "execution_count": 40,
   "metadata": {
    "colab": {
     "base_uri": "https://localhost:8080/",
     "height": 443
    },
    "executionInfo": {
     "elapsed": 399,
     "status": "ok",
     "timestamp": 1638120234225,
     "user": {
      "displayName": "Rakshit Rakshit",
      "photoUrl": "https://lh3.googleusercontent.com/a/default-user=s64",
      "userId": "00326556457200679977"
     },
     "user_tz": -330
    },
    "id": "nQzpl6rtOy7V",
    "outputId": "2271eb7e-c9d7-47af-e28b-f78468b0cfef"
   },
   "outputs": [
    {
     "data": {
      "text/html": [
       "<div>\n",
       "<style scoped>\n",
       "    .dataframe tbody tr th:only-of-type {\n",
       "        vertical-align: middle;\n",
       "    }\n",
       "\n",
       "    .dataframe tbody tr th {\n",
       "        vertical-align: top;\n",
       "    }\n",
       "\n",
       "    .dataframe thead th {\n",
       "        text-align: right;\n",
       "    }\n",
       "</style>\n",
       "<table border=\"1\" class=\"dataframe\">\n",
       "  <thead>\n",
       "    <tr style=\"text-align: right;\">\n",
       "      <th></th>\n",
       "      <th>0</th>\n",
       "      <th>1</th>\n",
       "      <th>2</th>\n",
       "      <th>3</th>\n",
       "      <th>4</th>\n",
       "      <th>5</th>\n",
       "      <th>6</th>\n",
       "      <th>7</th>\n",
       "      <th>8</th>\n",
       "      <th>9</th>\n",
       "      <th>...</th>\n",
       "      <th>490</th>\n",
       "      <th>491</th>\n",
       "      <th>492</th>\n",
       "      <th>493</th>\n",
       "      <th>494</th>\n",
       "      <th>495</th>\n",
       "      <th>496</th>\n",
       "      <th>497</th>\n",
       "      <th>498</th>\n",
       "      <th>499</th>\n",
       "    </tr>\n",
       "  </thead>\n",
       "  <tbody>\n",
       "    <tr>\n",
       "      <th>one</th>\n",
       "      <td>0.000192</td>\n",
       "      <td>0.000053</td>\n",
       "      <td>-0.000152</td>\n",
       "      <td>-0.000185</td>\n",
       "      <td>5.927282e-04</td>\n",
       "      <td>0.000113</td>\n",
       "      <td>0.000083</td>\n",
       "      <td>0.000245</td>\n",
       "      <td>-0.000122</td>\n",
       "      <td>0.000416</td>\n",
       "      <td>...</td>\n",
       "      <td>-0.002563</td>\n",
       "      <td>0.003921</td>\n",
       "      <td>0.000749</td>\n",
       "      <td>0.001145</td>\n",
       "      <td>0.005507</td>\n",
       "      <td>0.005597</td>\n",
       "      <td>-0.000986</td>\n",
       "      <td>0.008349</td>\n",
       "      <td>-0.002721</td>\n",
       "      <td>-0.001532</td>\n",
       "    </tr>\n",
       "    <tr>\n",
       "      <th>of</th>\n",
       "      <td>-0.000001</td>\n",
       "      <td>0.000026</td>\n",
       "      <td>0.000027</td>\n",
       "      <td>-0.000034</td>\n",
       "      <td>-2.011412e-06</td>\n",
       "      <td>0.000034</td>\n",
       "      <td>-0.000052</td>\n",
       "      <td>0.000001</td>\n",
       "      <td>-0.000041</td>\n",
       "      <td>-0.000007</td>\n",
       "      <td>...</td>\n",
       "      <td>-0.000603</td>\n",
       "      <td>0.000127</td>\n",
       "      <td>-0.000280</td>\n",
       "      <td>0.000287</td>\n",
       "      <td>0.000415</td>\n",
       "      <td>0.000370</td>\n",
       "      <td>0.000008</td>\n",
       "      <td>0.000386</td>\n",
       "      <td>-0.000408</td>\n",
       "      <td>0.000036</td>\n",
       "    </tr>\n",
       "    <tr>\n",
       "      <th>the</th>\n",
       "      <td>0.000001</td>\n",
       "      <td>0.000003</td>\n",
       "      <td>0.000002</td>\n",
       "      <td>-0.000006</td>\n",
       "      <td>-2.537063e-07</td>\n",
       "      <td>0.000002</td>\n",
       "      <td>-0.000007</td>\n",
       "      <td>0.000004</td>\n",
       "      <td>-0.000003</td>\n",
       "      <td>-0.000003</td>\n",
       "      <td>...</td>\n",
       "      <td>-0.000090</td>\n",
       "      <td>0.000007</td>\n",
       "      <td>-0.000056</td>\n",
       "      <td>0.000038</td>\n",
       "      <td>0.000055</td>\n",
       "      <td>0.000057</td>\n",
       "      <td>0.000004</td>\n",
       "      <td>0.000033</td>\n",
       "      <td>-0.000038</td>\n",
       "      <td>-0.000005</td>\n",
       "    </tr>\n",
       "    <tr>\n",
       "      <th>other</th>\n",
       "      <td>-0.000175</td>\n",
       "      <td>0.000621</td>\n",
       "      <td>0.000589</td>\n",
       "      <td>0.001025</td>\n",
       "      <td>3.522024e-04</td>\n",
       "      <td>-0.000675</td>\n",
       "      <td>0.000103</td>\n",
       "      <td>-0.000316</td>\n",
       "      <td>-0.000466</td>\n",
       "      <td>-0.000106</td>\n",
       "      <td>...</td>\n",
       "      <td>-0.008236</td>\n",
       "      <td>0.006073</td>\n",
       "      <td>-0.002180</td>\n",
       "      <td>0.001739</td>\n",
       "      <td>0.005572</td>\n",
       "      <td>0.007736</td>\n",
       "      <td>0.002005</td>\n",
       "      <td>-0.007892</td>\n",
       "      <td>0.001705</td>\n",
       "      <td>-0.001042</td>\n",
       "    </tr>\n",
       "    <tr>\n",
       "      <th>reviewers</th>\n",
       "      <td>-0.000116</td>\n",
       "      <td>-0.000012</td>\n",
       "      <td>-0.000017</td>\n",
       "      <td>-0.000160</td>\n",
       "      <td>-2.297652e-05</td>\n",
       "      <td>0.000735</td>\n",
       "      <td>0.000242</td>\n",
       "      <td>0.000455</td>\n",
       "      <td>0.000247</td>\n",
       "      <td>-0.001016</td>\n",
       "      <td>...</td>\n",
       "      <td>0.002587</td>\n",
       "      <td>-0.000999</td>\n",
       "      <td>0.002871</td>\n",
       "      <td>0.012662</td>\n",
       "      <td>0.002673</td>\n",
       "      <td>0.001782</td>\n",
       "      <td>0.005388</td>\n",
       "      <td>0.001250</td>\n",
       "      <td>-0.005056</td>\n",
       "      <td>0.002438</td>\n",
       "    </tr>\n",
       "    <tr>\n",
       "      <th>...</th>\n",
       "      <td>...</td>\n",
       "      <td>...</td>\n",
       "      <td>...</td>\n",
       "      <td>...</td>\n",
       "      <td>...</td>\n",
       "      <td>...</td>\n",
       "      <td>...</td>\n",
       "      <td>...</td>\n",
       "      <td>...</td>\n",
       "      <td>...</td>\n",
       "      <td>...</td>\n",
       "      <td>...</td>\n",
       "      <td>...</td>\n",
       "      <td>...</td>\n",
       "      <td>...</td>\n",
       "      <td>...</td>\n",
       "      <td>...</td>\n",
       "      <td>...</td>\n",
       "      <td>...</td>\n",
       "      <td>...</td>\n",
       "      <td>...</td>\n",
       "    </tr>\n",
       "    <tr>\n",
       "      <th>offices</th>\n",
       "      <td>-0.000342</td>\n",
       "      <td>-0.000359</td>\n",
       "      <td>-0.000071</td>\n",
       "      <td>-0.000376</td>\n",
       "      <td>-3.320914e-04</td>\n",
       "      <td>0.000465</td>\n",
       "      <td>-0.000725</td>\n",
       "      <td>-0.000151</td>\n",
       "      <td>-0.000989</td>\n",
       "      <td>-0.000343</td>\n",
       "      <td>...</td>\n",
       "      <td>-0.009122</td>\n",
       "      <td>-0.010097</td>\n",
       "      <td>0.004061</td>\n",
       "      <td>0.009686</td>\n",
       "      <td>0.003570</td>\n",
       "      <td>-0.009534</td>\n",
       "      <td>-0.000859</td>\n",
       "      <td>-0.008262</td>\n",
       "      <td>0.005201</td>\n",
       "      <td>0.011671</td>\n",
       "    </tr>\n",
       "    <tr>\n",
       "      <th>intuition</th>\n",
       "      <td>-0.000297</td>\n",
       "      <td>-0.000367</td>\n",
       "      <td>-0.000072</td>\n",
       "      <td>-0.000016</td>\n",
       "      <td>-3.107730e-04</td>\n",
       "      <td>0.000455</td>\n",
       "      <td>-0.000428</td>\n",
       "      <td>-0.000171</td>\n",
       "      <td>-0.000858</td>\n",
       "      <td>-0.000659</td>\n",
       "      <td>...</td>\n",
       "      <td>-0.007872</td>\n",
       "      <td>-0.008789</td>\n",
       "      <td>0.004097</td>\n",
       "      <td>0.009418</td>\n",
       "      <td>0.002902</td>\n",
       "      <td>-0.013868</td>\n",
       "      <td>-0.000644</td>\n",
       "      <td>-0.008939</td>\n",
       "      <td>0.005385</td>\n",
       "      <td>0.008518</td>\n",
       "    </tr>\n",
       "    <tr>\n",
       "      <th>stubborn</th>\n",
       "      <td>-0.000488</td>\n",
       "      <td>-0.000379</td>\n",
       "      <td>-0.000074</td>\n",
       "      <td>-0.000562</td>\n",
       "      <td>-3.696075e-04</td>\n",
       "      <td>-0.000110</td>\n",
       "      <td>-0.000104</td>\n",
       "      <td>-0.000320</td>\n",
       "      <td>-0.000984</td>\n",
       "      <td>-0.000232</td>\n",
       "      <td>...</td>\n",
       "      <td>-0.008005</td>\n",
       "      <td>-0.004739</td>\n",
       "      <td>0.003783</td>\n",
       "      <td>0.009490</td>\n",
       "      <td>0.003888</td>\n",
       "      <td>-0.014196</td>\n",
       "      <td>0.000612</td>\n",
       "      <td>-0.007868</td>\n",
       "      <td>0.006026</td>\n",
       "      <td>0.012593</td>\n",
       "    </tr>\n",
       "    <tr>\n",
       "      <th>masking</th>\n",
       "      <td>-0.000208</td>\n",
       "      <td>-0.000349</td>\n",
       "      <td>-0.000070</td>\n",
       "      <td>0.000021</td>\n",
       "      <td>-2.819753e-04</td>\n",
       "      <td>0.000571</td>\n",
       "      <td>-0.000428</td>\n",
       "      <td>-0.000031</td>\n",
       "      <td>-0.000572</td>\n",
       "      <td>-0.000318</td>\n",
       "      <td>...</td>\n",
       "      <td>-0.005542</td>\n",
       "      <td>-0.008691</td>\n",
       "      <td>0.004334</td>\n",
       "      <td>0.009835</td>\n",
       "      <td>0.003445</td>\n",
       "      <td>-0.014220</td>\n",
       "      <td>-0.001426</td>\n",
       "      <td>-0.008710</td>\n",
       "      <td>0.005656</td>\n",
       "      <td>0.011551</td>\n",
       "    </tr>\n",
       "    <tr>\n",
       "      <th>planes</th>\n",
       "      <td>-0.000198</td>\n",
       "      <td>-0.000337</td>\n",
       "      <td>-0.000068</td>\n",
       "      <td>0.000053</td>\n",
       "      <td>-3.557063e-04</td>\n",
       "      <td>0.000706</td>\n",
       "      <td>-0.000324</td>\n",
       "      <td>-0.000016</td>\n",
       "      <td>-0.000502</td>\n",
       "      <td>-0.000301</td>\n",
       "      <td>...</td>\n",
       "      <td>-0.006054</td>\n",
       "      <td>-0.007179</td>\n",
       "      <td>0.003698</td>\n",
       "      <td>0.009501</td>\n",
       "      <td>0.003480</td>\n",
       "      <td>-0.010871</td>\n",
       "      <td>-0.000741</td>\n",
       "      <td>-0.007933</td>\n",
       "      <td>0.008543</td>\n",
       "      <td>0.011847</td>\n",
       "    </tr>\n",
       "  </tbody>\n",
       "</table>\n",
       "<p>14719 rows × 500 columns</p>\n",
       "</div>"
      ],
      "text/plain": [
       "                0         1         2         3             4         5    \\\n",
       "one        0.000192  0.000053 -0.000152 -0.000185  5.927282e-04  0.000113   \n",
       "of        -0.000001  0.000026  0.000027 -0.000034 -2.011412e-06  0.000034   \n",
       "the        0.000001  0.000003  0.000002 -0.000006 -2.537063e-07  0.000002   \n",
       "other     -0.000175  0.000621  0.000589  0.001025  3.522024e-04 -0.000675   \n",
       "reviewers -0.000116 -0.000012 -0.000017 -0.000160 -2.297652e-05  0.000735   \n",
       "...             ...       ...       ...       ...           ...       ...   \n",
       "offices   -0.000342 -0.000359 -0.000071 -0.000376 -3.320914e-04  0.000465   \n",
       "intuition -0.000297 -0.000367 -0.000072 -0.000016 -3.107730e-04  0.000455   \n",
       "stubborn  -0.000488 -0.000379 -0.000074 -0.000562 -3.696075e-04 -0.000110   \n",
       "masking   -0.000208 -0.000349 -0.000070  0.000021 -2.819753e-04  0.000571   \n",
       "planes    -0.000198 -0.000337 -0.000068  0.000053 -3.557063e-04  0.000706   \n",
       "\n",
       "                6         7         8         9    ...       490       491  \\\n",
       "one        0.000083  0.000245 -0.000122  0.000416  ... -0.002563  0.003921   \n",
       "of        -0.000052  0.000001 -0.000041 -0.000007  ... -0.000603  0.000127   \n",
       "the       -0.000007  0.000004 -0.000003 -0.000003  ... -0.000090  0.000007   \n",
       "other      0.000103 -0.000316 -0.000466 -0.000106  ... -0.008236  0.006073   \n",
       "reviewers  0.000242  0.000455  0.000247 -0.001016  ...  0.002587 -0.000999   \n",
       "...             ...       ...       ...       ...  ...       ...       ...   \n",
       "offices   -0.000725 -0.000151 -0.000989 -0.000343  ... -0.009122 -0.010097   \n",
       "intuition -0.000428 -0.000171 -0.000858 -0.000659  ... -0.007872 -0.008789   \n",
       "stubborn  -0.000104 -0.000320 -0.000984 -0.000232  ... -0.008005 -0.004739   \n",
       "masking   -0.000428 -0.000031 -0.000572 -0.000318  ... -0.005542 -0.008691   \n",
       "planes    -0.000324 -0.000016 -0.000502 -0.000301  ... -0.006054 -0.007179   \n",
       "\n",
       "                492       493       494       495       496       497  \\\n",
       "one        0.000749  0.001145  0.005507  0.005597 -0.000986  0.008349   \n",
       "of        -0.000280  0.000287  0.000415  0.000370  0.000008  0.000386   \n",
       "the       -0.000056  0.000038  0.000055  0.000057  0.000004  0.000033   \n",
       "other     -0.002180  0.001739  0.005572  0.007736  0.002005 -0.007892   \n",
       "reviewers  0.002871  0.012662  0.002673  0.001782  0.005388  0.001250   \n",
       "...             ...       ...       ...       ...       ...       ...   \n",
       "offices    0.004061  0.009686  0.003570 -0.009534 -0.000859 -0.008262   \n",
       "intuition  0.004097  0.009418  0.002902 -0.013868 -0.000644 -0.008939   \n",
       "stubborn   0.003783  0.009490  0.003888 -0.014196  0.000612 -0.007868   \n",
       "masking    0.004334  0.009835  0.003445 -0.014220 -0.001426 -0.008710   \n",
       "planes     0.003698  0.009501  0.003480 -0.010871 -0.000741 -0.007933   \n",
       "\n",
       "                498       499  \n",
       "one       -0.002721 -0.001532  \n",
       "of        -0.000408  0.000036  \n",
       "the       -0.000038 -0.000005  \n",
       "other      0.001705 -0.001042  \n",
       "reviewers -0.005056  0.002438  \n",
       "...             ...       ...  \n",
       "offices    0.005201  0.011671  \n",
       "intuition  0.005385  0.008518  \n",
       "stubborn   0.006026  0.012593  \n",
       "masking    0.005656  0.011551  \n",
       "planes     0.008543  0.011847  \n",
       "\n",
       "[14719 rows x 500 columns]"
      ]
     },
     "execution_count": 40,
     "metadata": {},
     "output_type": "execute_result"
    }
   ],
   "source": [
    "word_embedd = cd.DataFrame(U, index=bow.index, dtype='float')\n",
    "word_embedd"
   ]
  },
  {
   "cell_type": "code",
   "execution_count": null,
   "metadata": {
    "id": "Pne4I_ZwklC8"
   },
   "outputs": [],
   "source": []
  }
 ],
 "metadata": {
  "colab": {
   "name": "ass6_Ques2.ipynb",
   "provenance": []
  },
  "interpreter": {
   "hash": "e404b59586357c814bc0d3940e75d6763c00a48753b225b81f7716971b8e1741"
  },
  "kernelspec": {
   "display_name": "Python 3",
   "language": "python",
   "name": "python3"
  },
  "language_info": {
   "codemirror_mode": {
    "name": "ipython",
    "version": 3
   },
   "file_extension": ".py",
   "mimetype": "text/x-python",
   "name": "python",
   "nbconvert_exporter": "python",
   "pygments_lexer": "ipython3",
   "version": "3.8.6"
  }
 },
 "nbformat": 4,
 "nbformat_minor": 4
}
