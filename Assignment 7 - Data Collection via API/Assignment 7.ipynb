{
 "cells": [
  {
   "cell_type": "markdown",
   "metadata": {},
   "source": [
    "### Data Collection"
   ]
  },
  {
   "cell_type": "code",
   "execution_count": 28,
   "metadata": {},
   "outputs": [],
   "source": [
    "import requests\n",
    "from bs4 import BeautifulSoup as bs\n",
    "import pandas as pd\n",
    "import config"
   ]
  },
  {
   "cell_type": "code",
   "execution_count": 29,
   "metadata": {},
   "outputs": [],
   "source": [
    "api_key = config.api_key"
   ]
  },
  {
   "cell_type": "markdown",
   "metadata": {},
   "source": [
    "## Part-1 “Comedy” genre movies released in the year 2000 or later."
   ]
  },
  {
   "cell_type": "code",
   "execution_count": 30,
   "metadata": {},
   "outputs": [],
   "source": [
    "table = []"
   ]
  },
  {
   "cell_type": "code",
   "execution_count": 31,
   "metadata": {},
   "outputs": [],
   "source": [
    "for i in range(15):\n",
    "    response = requests.get('https://api.themoviedb.org/3/discover/movie?api_key=' +  api_key + '&with_genres=35&primary_release_date.gte=2000&sort_by=popularity.desc&page='+ str(i+1))\n",
    "    # print(response)\n",
    "    movies_list = response.json()\n",
    "    movies = movies_list['results']\n",
    "    for j in range(len(movies)):\n",
    "        row = []\n",
    "        movie_id = movies[j]['id']\n",
    "        movie_name = movies[j]['original_title']\n",
    "        # print(movie_id, movie_name)\n",
    "        table.append([movie_id, movie_name])"
   ]
  },
  {
   "cell_type": "code",
   "execution_count": 32,
   "metadata": {},
   "outputs": [
    {
     "data": {
      "text/html": [
       "<div>\n",
       "<style scoped>\n",
       "    .dataframe tbody tr th:only-of-type {\n",
       "        vertical-align: middle;\n",
       "    }\n",
       "\n",
       "    .dataframe tbody tr th {\n",
       "        vertical-align: top;\n",
       "    }\n",
       "\n",
       "    .dataframe thead th {\n",
       "        text-align: right;\n",
       "    }\n",
       "</style>\n",
       "<table border=\"1\" class=\"dataframe\">\n",
       "  <thead>\n",
       "    <tr style=\"text-align: right;\">\n",
       "      <th></th>\n",
       "      <th>movie-ID</th>\n",
       "      <th>movie-name</th>\n",
       "    </tr>\n",
       "  </thead>\n",
       "  <tbody>\n",
       "    <tr>\n",
       "      <th>0</th>\n",
       "      <td>512195</td>\n",
       "      <td>Red Notice</td>\n",
       "    </tr>\n",
       "    <tr>\n",
       "      <th>1</th>\n",
       "      <td>585245</td>\n",
       "      <td>Clifford the Big Red Dog</td>\n",
       "    </tr>\n",
       "    <tr>\n",
       "      <th>2</th>\n",
       "      <td>876716</td>\n",
       "      <td>Ciao Alberto</td>\n",
       "    </tr>\n",
       "    <tr>\n",
       "      <th>3</th>\n",
       "      <td>654974</td>\n",
       "      <td>Home Sweet Home Alone</td>\n",
       "    </tr>\n",
       "    <tr>\n",
       "      <th>4</th>\n",
       "      <td>550988</td>\n",
       "      <td>Free Guy</td>\n",
       "    </tr>\n",
       "    <tr>\n",
       "      <th>...</th>\n",
       "      <td>...</td>\n",
       "      <td>...</td>\n",
       "    </tr>\n",
       "    <tr>\n",
       "      <th>295</th>\n",
       "      <td>570269</td>\n",
       "      <td>劇場版トリニティセブン -天空図書館と真紅の魔王-</td>\n",
       "    </tr>\n",
       "    <tr>\n",
       "      <th>296</th>\n",
       "      <td>19899</td>\n",
       "      <td>Couples Retreat</td>\n",
       "    </tr>\n",
       "    <tr>\n",
       "      <th>297</th>\n",
       "      <td>291805</td>\n",
       "      <td>Now You See Me 2</td>\n",
       "    </tr>\n",
       "    <tr>\n",
       "      <th>298</th>\n",
       "      <td>308531</td>\n",
       "      <td>Teenage Mutant Ninja Turtles: Out of the Shadows</td>\n",
       "    </tr>\n",
       "    <tr>\n",
       "      <th>299</th>\n",
       "      <td>350</td>\n",
       "      <td>The Devil Wears Prada</td>\n",
       "    </tr>\n",
       "  </tbody>\n",
       "</table>\n",
       "<p>300 rows × 2 columns</p>\n",
       "</div>"
      ],
      "text/plain": [
       "     movie-ID                                        movie-name\n",
       "0      512195                                        Red Notice\n",
       "1      585245                          Clifford the Big Red Dog\n",
       "2      876716                                      Ciao Alberto\n",
       "3      654974                             Home Sweet Home Alone\n",
       "4      550988                                          Free Guy\n",
       "..        ...                                               ...\n",
       "295    570269                         劇場版トリニティセブン -天空図書館と真紅の魔王-\n",
       "296     19899                                   Couples Retreat\n",
       "297    291805                                  Now You See Me 2\n",
       "298    308531  Teenage Mutant Ninja Turtles: Out of the Shadows\n",
       "299       350                             The Devil Wears Prada\n",
       "\n",
       "[300 rows x 2 columns]"
      ]
     },
     "execution_count": 32,
     "metadata": {},
     "output_type": "execute_result"
    }
   ],
   "source": [
    "df = pd.DataFrame(table, columns=['movie-ID', 'movie-name'])\n",
    "df"
   ]
  },
  {
   "cell_type": "code",
   "execution_count": 33,
   "metadata": {},
   "outputs": [],
   "source": [
    "df.to_csv('movie_ID_name.csv', header=False, index=False)"
   ]
  },
  {
   "cell_type": "code",
   "execution_count": null,
   "metadata": {},
   "outputs": [],
   "source": []
  },
  {
   "cell_type": "markdown",
   "metadata": {},
   "source": [
    "## Part-2 Similar Movies from Part-1"
   ]
  },
  {
   "cell_type": "code",
   "execution_count": 34,
   "metadata": {},
   "outputs": [],
   "source": [
    "table2 = []\n",
    "for i in range(len(df['movie-ID'])):\n",
    "    response = requests.get('https://api.themoviedb.org/3/movie/'+ str(df['movie-ID'][i]) +'/similar?api_key='+ api_key +'&language=en-US&page=1')\n",
    "    similar_movies = response.json()\n",
    "    movies = similar_movies['results']\n",
    "    for j in range(5):\n",
    "        row = []\n",
    "        try:\n",
    "            similar_movie_id = movies[j]['id']\n",
    "        except:\n",
    "            break\n",
    "        table2.append([df['movie-ID'][i], similar_movie_id])"
   ]
  },
  {
   "cell_type": "code",
   "execution_count": 35,
   "metadata": {},
   "outputs": [
    {
     "data": {
      "text/html": [
       "<div>\n",
       "<style scoped>\n",
       "    .dataframe tbody tr th:only-of-type {\n",
       "        vertical-align: middle;\n",
       "    }\n",
       "\n",
       "    .dataframe tbody tr th {\n",
       "        vertical-align: top;\n",
       "    }\n",
       "\n",
       "    .dataframe thead th {\n",
       "        text-align: right;\n",
       "    }\n",
       "</style>\n",
       "<table border=\"1\" class=\"dataframe\">\n",
       "  <thead>\n",
       "    <tr style=\"text-align: right;\">\n",
       "      <th></th>\n",
       "      <th>movie-ID</th>\n",
       "      <th>similar-movie-ID</th>\n",
       "    </tr>\n",
       "  </thead>\n",
       "  <tbody>\n",
       "    <tr>\n",
       "      <th>0</th>\n",
       "      <td>512195</td>\n",
       "      <td>9350</td>\n",
       "    </tr>\n",
       "    <tr>\n",
       "      <th>1</th>\n",
       "      <td>512195</td>\n",
       "      <td>8836</td>\n",
       "    </tr>\n",
       "    <tr>\n",
       "      <th>2</th>\n",
       "      <td>512195</td>\n",
       "      <td>8838</td>\n",
       "    </tr>\n",
       "    <tr>\n",
       "      <th>3</th>\n",
       "      <td>512195</td>\n",
       "      <td>9600</td>\n",
       "    </tr>\n",
       "    <tr>\n",
       "      <th>4</th>\n",
       "      <td>512195</td>\n",
       "      <td>949</td>\n",
       "    </tr>\n",
       "    <tr>\n",
       "      <th>...</th>\n",
       "      <td>...</td>\n",
       "      <td>...</td>\n",
       "    </tr>\n",
       "    <tr>\n",
       "      <th>1495</th>\n",
       "      <td>350</td>\n",
       "      <td>2978</td>\n",
       "    </tr>\n",
       "    <tr>\n",
       "      <th>1496</th>\n",
       "      <td>350</td>\n",
       "      <td>1633</td>\n",
       "    </tr>\n",
       "    <tr>\n",
       "      <th>1497</th>\n",
       "      <td>350</td>\n",
       "      <td>1643</td>\n",
       "    </tr>\n",
       "    <tr>\n",
       "      <th>1498</th>\n",
       "      <td>350</td>\n",
       "      <td>1646</td>\n",
       "    </tr>\n",
       "    <tr>\n",
       "      <th>1499</th>\n",
       "      <td>350</td>\n",
       "      <td>1669</td>\n",
       "    </tr>\n",
       "  </tbody>\n",
       "</table>\n",
       "<p>1500 rows × 2 columns</p>\n",
       "</div>"
      ],
      "text/plain": [
       "      movie-ID  similar-movie-ID\n",
       "0       512195              9350\n",
       "1       512195              8836\n",
       "2       512195              8838\n",
       "3       512195              9600\n",
       "4       512195               949\n",
       "...        ...               ...\n",
       "1495       350              2978\n",
       "1496       350              1633\n",
       "1497       350              1643\n",
       "1498       350              1646\n",
       "1499       350              1669\n",
       "\n",
       "[1500 rows x 2 columns]"
      ]
     },
     "execution_count": 35,
     "metadata": {},
     "output_type": "execute_result"
    }
   ],
   "source": [
    "df2 = pd.DataFrame(table2, columns=['movie-ID', 'similar-movie-ID'])\n",
    "df2"
   ]
  },
  {
   "cell_type": "code",
   "execution_count": 36,
   "metadata": {},
   "outputs": [],
   "source": [
    "df2.to_csv('movie_ID_sim_movie_ID.csv', header=False, index=False)"
   ]
  },
  {
   "cell_type": "markdown",
   "metadata": {},
   "source": [
    "### Remove duplicates"
   ]
  },
  {
   "cell_type": "code",
   "execution_count": 37,
   "metadata": {},
   "outputs": [],
   "source": [
    "updated_df = pd.DataFrame()"
   ]
  },
  {
   "cell_type": "code",
   "execution_count": 38,
   "metadata": {},
   "outputs": [],
   "source": [
    "k=0\n",
    "for i in range(len(df2['movie-ID'])):\n",
    "    try:\n",
    "        movie_id = df2['movie-ID'][i]\n",
    "        sim_id = df2['similar-movie-ID'][i]\n",
    "        df3 = df2[df2['movie-ID']==sim_id]\n",
    "        df3 = df3.reset_index(drop=True)\n",
    "        for movie in list(df3['similar-movie-ID']):\n",
    "            if movie_id == movie:\n",
    "                if movie_id < sim_id:\n",
    "                   df2 = df2.drop(df2[df2['similar-movie-ID']==movie].index[0])\n",
    "                else:\n",
    "                   df2 = df2.drop(i)\n",
    "    except:\n",
    "        pass"
   ]
  },
  {
   "cell_type": "code",
   "execution_count": 39,
   "metadata": {},
   "outputs": [],
   "source": [
    "updated_df.to_csv('updated_movie_ID_sim_movie_ID.csv', index=False)"
   ]
  },
  {
   "cell_type": "code",
   "execution_count": null,
   "metadata": {},
   "outputs": [],
   "source": []
  }
 ],
 "metadata": {
  "interpreter": {
   "hash": "e404b59586357c814bc0d3940e75d6763c00a48753b225b81f7716971b8e1741"
  },
  "kernelspec": {
   "display_name": "Python 3.8.6 64-bit",
   "language": "python",
   "name": "python3"
  },
  "language_info": {
   "codemirror_mode": {
    "name": "ipython",
    "version": 3
   },
   "file_extension": ".py",
   "mimetype": "text/x-python",
   "name": "python",
   "nbconvert_exporter": "python",
   "pygments_lexer": "ipython3",
   "version": "3.8.6"
  },
  "orig_nbformat": 4
 },
 "nbformat": 4,
 "nbformat_minor": 2
}
