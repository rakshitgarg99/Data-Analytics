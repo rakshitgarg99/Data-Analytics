{
 "cells": [
  {
   "cell_type": "markdown",
   "metadata": {},
   "source": [
    "## Ques1. Convert the code of Question 1 of Assignment -II (K-Fold Cross Validation with Linear Regression) to GPU accelerated code (using CuDF, CuPy, and CuML). Compare the time taken to execute each cell in each case (Use %%time as firat line in each cell for it)."
   ]
  },
  {
   "cell_type": "code",
   "execution_count": 22,
   "metadata": {},
   "outputs": [
    {
     "name": "stdout",
     "output_type": "stream",
     "text": [
      "CPU times: user 7 µs, sys: 0 ns, total: 7 µs\n",
      "Wall time: 9.78 µs\n"
     ]
    }
   ],
   "source": [
    "%%time\n",
    "\n",
    "import cupy as cp\n",
    "import cudf\n",
    "import cuml"
   ]
  },
  {
   "cell_type": "code",
   "execution_count": 23,
   "metadata": {},
   "outputs": [
    {
     "name": "stdout",
     "output_type": "stream",
     "text": [
      "CPU times: user 5.17 ms, sys: 0 ns, total: 5.17 ms\n",
      "Wall time: 3.65 ms\n"
     ]
    },
    {
     "data": {
      "text/html": [
       "<div>\n",
       "<style scoped>\n",
       "    .dataframe tbody tr th:only-of-type {\n",
       "        vertical-align: middle;\n",
       "    }\n",
       "\n",
       "    .dataframe tbody tr th {\n",
       "        vertical-align: top;\n",
       "    }\n",
       "\n",
       "    .dataframe thead th {\n",
       "        text-align: right;\n",
       "    }\n",
       "</style>\n",
       "<table border=\"1\" class=\"dataframe\">\n",
       "  <thead>\n",
       "    <tr style=\"text-align: right;\">\n",
       "      <th></th>\n",
       "      <th>Avg. Area Income</th>\n",
       "      <th>Avg. Area House Age</th>\n",
       "      <th>Avg. Area Number of Rooms</th>\n",
       "      <th>Avg. Area Number of Bedrooms</th>\n",
       "      <th>Area Population</th>\n",
       "      <th>Price</th>\n",
       "    </tr>\n",
       "  </thead>\n",
       "  <tbody>\n",
       "    <tr>\n",
       "      <th>0</th>\n",
       "      <td>79545.45857</td>\n",
       "      <td>5.682861</td>\n",
       "      <td>7.009188</td>\n",
       "      <td>4.09</td>\n",
       "      <td>23086.80050</td>\n",
       "      <td>1.059034e+06</td>\n",
       "    </tr>\n",
       "    <tr>\n",
       "      <th>1</th>\n",
       "      <td>79248.64245</td>\n",
       "      <td>6.002900</td>\n",
       "      <td>6.730821</td>\n",
       "      <td>3.09</td>\n",
       "      <td>40173.07217</td>\n",
       "      <td>1.505891e+06</td>\n",
       "    </tr>\n",
       "    <tr>\n",
       "      <th>2</th>\n",
       "      <td>61287.06718</td>\n",
       "      <td>5.865890</td>\n",
       "      <td>8.512727</td>\n",
       "      <td>5.13</td>\n",
       "      <td>36882.15940</td>\n",
       "      <td>1.058988e+06</td>\n",
       "    </tr>\n",
       "    <tr>\n",
       "      <th>3</th>\n",
       "      <td>63345.24005</td>\n",
       "      <td>7.188236</td>\n",
       "      <td>5.586729</td>\n",
       "      <td>3.26</td>\n",
       "      <td>34310.24283</td>\n",
       "      <td>1.260617e+06</td>\n",
       "    </tr>\n",
       "    <tr>\n",
       "      <th>4</th>\n",
       "      <td>59982.19723</td>\n",
       "      <td>5.040555</td>\n",
       "      <td>7.839388</td>\n",
       "      <td>4.23</td>\n",
       "      <td>26354.10947</td>\n",
       "      <td>6.309435e+05</td>\n",
       "    </tr>\n",
       "    <tr>\n",
       "      <th>...</th>\n",
       "      <td>...</td>\n",
       "      <td>...</td>\n",
       "      <td>...</td>\n",
       "      <td>...</td>\n",
       "      <td>...</td>\n",
       "      <td>...</td>\n",
       "    </tr>\n",
       "    <tr>\n",
       "      <th>4995</th>\n",
       "      <td>60567.94414</td>\n",
       "      <td>7.830362</td>\n",
       "      <td>6.137356</td>\n",
       "      <td>3.46</td>\n",
       "      <td>22837.36103</td>\n",
       "      <td>1.060194e+06</td>\n",
       "    </tr>\n",
       "    <tr>\n",
       "      <th>4996</th>\n",
       "      <td>78491.27543</td>\n",
       "      <td>6.999135</td>\n",
       "      <td>6.576763</td>\n",
       "      <td>4.02</td>\n",
       "      <td>25616.11549</td>\n",
       "      <td>1.482618e+06</td>\n",
       "    </tr>\n",
       "    <tr>\n",
       "      <th>4997</th>\n",
       "      <td>63390.68689</td>\n",
       "      <td>7.250591</td>\n",
       "      <td>4.805081</td>\n",
       "      <td>2.13</td>\n",
       "      <td>33266.14549</td>\n",
       "      <td>1.030730e+06</td>\n",
       "    </tr>\n",
       "    <tr>\n",
       "      <th>4998</th>\n",
       "      <td>68001.33124</td>\n",
       "      <td>5.534388</td>\n",
       "      <td>7.130144</td>\n",
       "      <td>5.44</td>\n",
       "      <td>42625.62016</td>\n",
       "      <td>1.198657e+06</td>\n",
       "    </tr>\n",
       "    <tr>\n",
       "      <th>4999</th>\n",
       "      <td>65510.58180</td>\n",
       "      <td>5.992305</td>\n",
       "      <td>6.792336</td>\n",
       "      <td>4.07</td>\n",
       "      <td>46501.28380</td>\n",
       "      <td>1.298950e+06</td>\n",
       "    </tr>\n",
       "  </tbody>\n",
       "</table>\n",
       "<p>5000 rows × 6 columns</p>\n",
       "</div>"
      ],
      "text/plain": [
       "      Avg. Area Income  Avg. Area House Age  Avg. Area Number of Rooms  \\\n",
       "0          79545.45857             5.682861                   7.009188   \n",
       "1          79248.64245             6.002900                   6.730821   \n",
       "2          61287.06718             5.865890                   8.512727   \n",
       "3          63345.24005             7.188236                   5.586729   \n",
       "4          59982.19723             5.040555                   7.839388   \n",
       "...                ...                  ...                        ...   \n",
       "4995       60567.94414             7.830362                   6.137356   \n",
       "4996       78491.27543             6.999135                   6.576763   \n",
       "4997       63390.68689             7.250591                   4.805081   \n",
       "4998       68001.33124             5.534388                   7.130144   \n",
       "4999       65510.58180             5.992305                   6.792336   \n",
       "\n",
       "      Avg. Area Number of Bedrooms  Area Population         Price  \n",
       "0                             4.09      23086.80050  1.059034e+06  \n",
       "1                             3.09      40173.07217  1.505891e+06  \n",
       "2                             5.13      36882.15940  1.058988e+06  \n",
       "3                             3.26      34310.24283  1.260617e+06  \n",
       "4                             4.23      26354.10947  6.309435e+05  \n",
       "...                            ...              ...           ...  \n",
       "4995                          3.46      22837.36103  1.060194e+06  \n",
       "4996                          4.02      25616.11549  1.482618e+06  \n",
       "4997                          2.13      33266.14549  1.030730e+06  \n",
       "4998                          5.44      42625.62016  1.198657e+06  \n",
       "4999                          4.07      46501.28380  1.298950e+06  \n",
       "\n",
       "[5000 rows x 6 columns]"
      ]
     },
     "execution_count": 23,
     "metadata": {},
     "output_type": "execute_result"
    }
   ],
   "source": [
    "%%time\n",
    "\n",
    "df = cudf.read_csv('USA_Housing.csv')\n",
    "df"
   ]
  },
  {
   "cell_type": "code",
   "execution_count": 24,
   "metadata": {},
   "outputs": [
    {
     "name": "stdout",
     "output_type": "stream",
     "text": [
      "CPU times: user 0 ns, sys: 3.03 ms, total: 3.03 ms\n",
      "Wall time: 2.57 ms\n"
     ]
    },
    {
     "data": {
      "text/plain": [
       "array(False)"
      ]
     },
     "execution_count": 24,
     "metadata": {},
     "output_type": "execute_result"
    }
   ],
   "source": [
    "%%time\n",
    "\n",
    "# check for missing values\n",
    "df.isnull().values.any()"
   ]
  },
  {
   "cell_type": "code",
   "execution_count": 25,
   "metadata": {},
   "outputs": [
    {
     "name": "stdout",
     "output_type": "stream",
     "text": [
      "CPU times: user 4.95 ms, sys: 0 ns, total: 4.95 ms\n",
      "Wall time: 4.32 ms\n"
     ]
    },
    {
     "data": {
      "text/plain": [
       "Avg. Area Income                0\n",
       "Avg. Area House Age             0\n",
       "Avg. Area Number of Rooms       0\n",
       "Avg. Area Number of Bedrooms    0\n",
       "Area Population                 0\n",
       "Price                           0\n",
       "dtype: uint64"
      ]
     },
     "execution_count": 25,
     "metadata": {},
     "output_type": "execute_result"
    }
   ],
   "source": [
    "%%time\n",
    "\n",
    "df.isnull().sum()"
   ]
  },
  {
   "cell_type": "code",
   "execution_count": 28,
   "metadata": {},
   "outputs": [
    {
     "name": "stdout",
     "output_type": "stream",
     "text": [
      "CPU times: user 1.97 s, sys: 188 ms, total: 2.16 s\n",
      "Wall time: 2.16 s\n"
     ]
    },
    {
     "data": {
      "text/plain": [
       "<AxesSubplot:>"
      ]
     },
     "execution_count": 28,
     "metadata": {},
     "output_type": "execute_result"
    },
    {
     "data": {
      "image/png": "[encoded data removed]",
      "text/plain": [
       "<Figure size 432x288 with 2 Axes>"
      ]
     },
     "metadata": {
      "needs_background": "light"
     },
     "output_type": "display_data"
    }
   ],
   "source": [
    "%%time\n",
    "\n",
    "# check for relation between feature\n",
    "import seaborn as sns\n",
    "sns.heatmap(df.iloc[:,:5].corr().as_gpu_matrix(), annot=True)"
   ]
  },
  {
   "cell_type": "code",
   "execution_count": 29,
   "metadata": {},
   "outputs": [
    {
     "name": "stdout",
     "output_type": "stream",
     "text": [
      "CPU times: user 3 ms, sys: 0 ns, total: 3 ms\n",
      "Wall time: 2.57 ms\n"
     ]
    }
   ],
   "source": [
    "%%time\n",
    "\n",
    "X = df.iloc[:,:5]\n",
    "y = df.iloc[:,5]"
   ]
  },
  {
   "cell_type": "code",
   "execution_count": 30,
   "metadata": {},
   "outputs": [
    {
     "name": "stdout",
     "output_type": "stream",
     "text": [
      "             0         1         2         3         4\n",
      "0     1.028660 -0.296927  0.021274  0.088062 -1.317599\n",
      "1     1.000808  0.025902 -0.255506 -0.722301  0.403999\n",
      "2    -0.684629 -0.112303  1.516243  0.930840  0.072410\n",
      "3    -0.491499  1.221572 -1.393077 -0.584540 -0.186734\n",
      "4    -0.807073 -0.944834  0.846742  0.201513 -0.988387\n",
      "...        ...       ...       ...       ...       ...\n",
      "4995 -0.752109  1.869297 -0.845588 -0.422467 -1.342732\n",
      "4996  0.929740  1.030822 -0.408686  0.031337 -1.062747\n",
      "4997 -0.487235  1.284470 -2.170269 -1.500251 -0.291937\n",
      "4998 -0.054592 -0.446694  0.141541  1.182053  0.651116\n",
      "4999 -0.288313  0.015215 -0.194342  0.071855  1.041625\n",
      "\n",
      "[5000 rows x 5 columns]\n",
      "CPU times: user 618 ms, sys: 111 µs, total: 618 ms\n",
      "Wall time: 617 ms\n"
     ]
    }
   ],
   "source": [
    "%%time\n",
    "\n",
    "from cuml.preprocessing import StandardScaler\n",
    "scaler = StandardScaler()\n",
    "X_scaled = scaler.fit_transform(X)\n",
    "print(X_scaled)"
   ]
  },
  {
   "cell_type": "code",
   "execution_count": 31,
   "metadata": {},
   "outputs": [
    {
     "name": "stdout",
     "output_type": "stream",
     "text": [
      "[[ 1.          1.02865969 -0.29692705  0.02127433  0.08806222 -1.31759867]\n",
      " [ 1.          1.00080775  0.02590164 -0.25550611 -0.72230146  0.40399945]\n",
      " [ 1.         -0.68462915 -0.11230283  1.5162435   0.93084045  0.07240989]\n",
      " ...\n",
      " [ 1.         -0.48723454  1.28447022 -2.17026949 -1.50025059 -0.29193658]\n",
      " [ 1.         -0.05459152 -0.44669439  0.14154061  1.18205319  0.65111608]\n",
      " [ 1.         -0.28831272  0.01521477 -0.19434166  0.07185495  1.04162464]]\n",
      "CPU times: user 390 ms, sys: 0 ns, total: 390 ms\n",
      "Wall time: 389 ms\n"
     ]
    }
   ],
   "source": [
    "%%time\n",
    "\n",
    "# add column of 1's at 0th index\n",
    "ones = cp.ones((X_scaled.shape[0], 1))\n",
    "X_new = cp.hstack((ones, X_scaled.as_matrix()))\n",
    "print(X_new)"
   ]
  },
  {
   "cell_type": "code",
   "execution_count": 32,
   "metadata": {},
   "outputs": [
    {
     "name": "stdout",
     "output_type": "stream",
     "text": [
      "[1059033.558 1505890.915 1058987.988 ... 1030729.583 1198656.872\n",
      " 1298950.48 ]\n",
      "CPU times: user 1.18 ms, sys: 0 ns, total: 1.18 ms\n",
      "Wall time: 785 µs\n"
     ]
    }
   ],
   "source": [
    "%%time\n",
    "\n",
    "y = cp.array(y)\n",
    "print(y)"
   ]
  },
  {
   "cell_type": "code",
   "execution_count": 33,
   "metadata": {},
   "outputs": [
    {
     "name": "stdout",
     "output_type": "stream",
     "text": [
      "CPU times: user 1.19 s, sys: 27.1 ms, total: 1.22 s\n",
      "Wall time: 1.22 s\n"
     ]
    }
   ],
   "source": [
    "%%time\n",
    "\n",
    "# split the data in train and test\n",
    "from cuml.model_selection import train_test_split\n",
    "X_train, X_test, y_train, y_test = train_test_split(X_new, y, test_size=0.30, random_state=42)"
   ]
  },
  {
   "cell_type": "code",
   "execution_count": 34,
   "metadata": {},
   "outputs": [
    {
     "name": "stdout",
     "output_type": "stream",
     "text": [
      "[[ 1.          1.4146249   0.17713817 -0.29522457  0.39600042  0.65335792]\n",
      " [ 1.         -0.91364265  2.01410889 -1.45867925 -0.51971054  0.18295778]\n",
      " [ 1.          1.21365939 -0.58455535  1.50761046  1.01998045 -0.29223897]\n",
      " ...\n",
      " [ 1.          0.78132487  0.94889523  1.80391102 -0.68178327 -0.9390865 ]\n",
      " [ 1.         -1.63951368  0.0921311  -0.08063389 -1.5245615   0.2261797 ]\n",
      " [ 1.         -0.60952236  0.20707471  1.14076696  1.74120413  0.6902284 ]] [[ 1.         -0.2202531  -1.6750934  -0.91345935 -1.46783604 -0.12504448]\n",
      " [ 1.          1.15566758 -0.42164293 -0.18489605  0.31496405  0.13772922]\n",
      " [ 1.          0.45017452  0.09863197  0.65760556 -0.59264327  0.98111802]\n",
      " ...\n",
      " [ 1.         -0.65013218 -1.861131    1.80936295  1.8465514   0.57896078]\n",
      " [ 1.         -0.2824124   0.0850448   2.09107241 -0.44677781  2.21991953]\n",
      " [ 1.          1.10569094  0.64234441  0.31881474  0.26634223  0.66626651]]\n",
      "CPU times: user 1.42 ms, sys: 0 ns, total: 1.42 ms\n",
      "Wall time: 1.02 ms\n"
     ]
    }
   ],
   "source": [
    "%%time\n",
    "\n",
    "print(X_train, X_test)"
   ]
  },
  {
   "cell_type": "code",
   "execution_count": 35,
   "metadata": {},
   "outputs": [
    {
     "name": "stdout",
     "output_type": "stream",
     "text": [
      "[1688642.679  1159699.966  1458912.584  ... 1554301.938   882170.3184\n",
      " 1316206.247 ] [ 762391.7761 1443470.037  1684554.715  ... 1131532.919  1723397.089\n",
      " 1759180.044 ]\n",
      "CPU times: user 704 µs, sys: 57 µs, total: 761 µs\n",
      "Wall time: 560 µs\n"
     ]
    }
   ],
   "source": [
    "%%time\n",
    "\n",
    "print(y_train, y_test)"
   ]
  },
  {
   "cell_type": "code",
   "execution_count": 36,
   "metadata": {},
   "outputs": [
    {
     "name": "stdout",
     "output_type": "stream",
     "text": [
      "0.920542443041927\n",
      "CPU times: user 536 ms, sys: 181 ms, total: 716 ms\n",
      "Wall time: 716 ms\n"
     ]
    }
   ],
   "source": [
    "%%time\n",
    "\n",
    "# checking r2_score without cross-validation using cuml linear model\n",
    "from cuml.linear_model import LinearRegression\n",
    "lr=LinearRegression()\n",
    "lr.fit(X_train,y_train)\n",
    "y_predict=lr.predict(X_test)\n",
    "\n",
    "\n",
    "from cuml import metrics\n",
    "print(metrics.r2_score(y_test,y_predict))"
   ]
  },
  {
   "cell_type": "markdown",
   "metadata": {},
   "source": [
    "## 5-fold validation applied"
   ]
  },
  {
   "cell_type": "code",
   "execution_count": 15,
   "metadata": {},
   "outputs": [
    {
     "name": "stdout",
     "output_type": "stream",
     "text": [
      "CPU times: user 4 µs, sys: 0 ns, total: 4 µs\n",
      "Wall time: 5.72 µs\n"
     ]
    }
   ],
   "source": [
    "%%time\n",
    "\n",
    "theta_list = []\n",
    "predict_list = []\n",
    "score_list = []\n",
    "\n",
    "train_x = []\n",
    "train_y = []"
   ]
  },
  {
   "cell_type": "code",
   "execution_count": 44,
   "metadata": {},
   "outputs": [
    {
     "name": "stdout",
     "output_type": "stream",
     "text": [
      "CPU times: user 4 µs, sys: 1e+03 ns, total: 5 µs\n",
      "Wall time: 6.91 µs\n"
     ]
    }
   ],
   "source": [
    "%%time\n",
    "\n",
    "def calculate_theta(x_train, y_train):\n",
    "    x_sq = x_train.T.dot(x_train)\n",
    "    x_inv = cp.linalg.inv(x_sq)\n",
    "    theta = (x_inv.dot(x_train.T)).dot(y_train)\n",
    "    theta_list.append(theta)\n",
    "    return theta\n",
    "\n",
    "def predict(x_test, theta):\n",
    "    y_predict = x_test.dot(theta)\n",
    "    predict_list.append(y_predict)\n",
    "    return y_predict\n",
    "\n",
    "def r2_score(y, y_):\n",
    "    num = cp.sum((y-y_)**2)\n",
    "    denom = cp.sum((y-y.mean())**2)\n",
    "    score = (1-num/denom)\n",
    "    return score*100"
   ]
  },
  {
   "cell_type": "code",
   "execution_count": 38,
   "metadata": {},
   "outputs": [
    {
     "name": "stdout",
     "output_type": "stream",
     "text": [
      "CPU times: user 149 ms, sys: 45 µs, total: 149 ms\n",
      "Wall time: 148 ms\n"
     ]
    }
   ],
   "source": [
    "%%time\n",
    "def KFold_split(X_split,folds=5):\n",
    "    fold_size=int(X_split.shape[0]/folds)\n",
    "    startIndex=0\n",
    "    endIndex=fold_size-1\n",
    "    train=[]\n",
    "    test=[]\n",
    "    results=[]\n",
    "    while endIndex<=X_split.shape[0]:\n",
    "        test=[i for i in range(startIndex,endIndex+1)]\n",
    "        train=[i for i in range(0,X_split.shape[0]) if i not in test]\n",
    "        results.append(list((cp.array(train),cp.array(test))))\n",
    "        startIndex+=fold_size\n",
    "        endIndex+=fold_size\n",
    "    return results\n",
    "\n",
    "results = KFold_split(X_new, 5)"
   ]
  },
  {
   "cell_type": "code",
   "execution_count": 39,
   "metadata": {},
   "outputs": [
    {
     "name": "stdout",
     "output_type": "stream",
     "text": [
      "Score is:  91.75899480765108 \n",
      "\n",
      "Score is:  92.0301549640113 \n",
      "\n",
      "Score is:  91.52429915320013 \n",
      "\n",
      "Score is:  92.08503836977656 \n",
      "\n",
      "Score is:  91.38111758717496 \n",
      "\n",
      "CPU times: user 1.49 s, sys: 19.6 ms, total: 1.51 s\n",
      "Wall time: 1.51 s\n"
     ]
    }
   ],
   "source": [
    "%%time\n",
    "k = 5\n",
    "for train_index , test_index in KFold_split(X_new,k):\n",
    "    X_train, X_test, y_train, y_test = X_new[train_index,:], X_new[test_index,:], y[train_index] , y[test_index]\n",
    "    theta = calculate_theta(X_train, y_train)\n",
    "    y_predict = predict(X_test, theta)\n",
    "    score = r2_score(y_test, y_predict)\n",
    "    \n",
    "    score_list.append(score)\n",
    "    print(\"Score is: \", score, \"\\n\")\n"
   ]
  },
  {
   "cell_type": "code",
   "execution_count": 40,
   "metadata": {},
   "outputs": [
    {
     "name": "stdout",
     "output_type": "stream",
     "text": [
      "[array([1231872.07704612,  229923.70318635,  164052.98579011,\n",
      "        120923.57426579,    3533.77470973,  151855.58542488]), array([1232586.40453402,  228365.32287054,  165201.14881927,\n",
      "        122539.46855211,    1697.03433458,  150055.81710562]), array([1231448.09063371,  230730.20810582,  163554.55706976,\n",
      "        121669.08713233,    2620.25215054,  150923.12489298]), array([1.23144707e+06, 2.29921558e+05, 1.64523054e+05, 1.19737507e+05,\n",
      "       1.12425659e+03, 1.51317802e+05]), array([1233028.38536436,  230778.59921985,  163755.13607252,\n",
      "        121885.1351222 ,    1247.01304382,  150084.29759618])]\n",
      "[array(91.75899481), array(92.03015496), array(91.52429915), array(92.08503837), array(91.38111759)]\n",
      "Max r2_score:  92.08503836977656\n",
      "CPU times: user 190 ms, sys: 110 µs, total: 190 ms\n",
      "Wall time: 189 ms\n"
     ]
    }
   ],
   "source": [
    "%%time\n",
    "\n",
    "print(theta_list)\n",
    "print(score_list)\n",
    "print(\"Max r2_score: \", max(score_list))"
   ]
  },
  {
   "cell_type": "code",
   "execution_count": 41,
   "metadata": {},
   "outputs": [
    {
     "name": "stdout",
     "output_type": "stream",
     "text": [
      "3\n",
      "[1.23144707e+06 2.29921558e+05 1.64523054e+05 1.19737507e+05\n",
      " 1.12425659e+03 1.51317802e+05]\n",
      "CPU times: user 187 ms, sys: 0 ns, total: 187 ms\n",
      "Wall time: 187 ms\n"
     ]
    }
   ],
   "source": [
    "%%time\n",
    "\n",
    "# idx of best r2_score and best theta matrix\n",
    "best_score_idx = score_list.index(max(score_list)) \n",
    "print(best_score_idx)\n",
    "\n",
    "best_theta = theta_list[best_score_idx]\n",
    "print(best_theta)"
   ]
  },
  {
   "cell_type": "code",
   "execution_count": 42,
   "metadata": {},
   "outputs": [
    {
     "name": "stdout",
     "output_type": "stream",
     "text": [
      "CPU times: user 3.89 ms, sys: 3.87 ms, total: 7.76 ms\n",
      "Wall time: 7.08 ms\n"
     ]
    }
   ],
   "source": [
    "%%time\n",
    "\n",
    "# Again divide data in 70-30 and apply regression with best parameters\n",
    "new_X_train, new_X_test, new_y_train, new_y_test = train_test_split(X_new, y, test_size=0.30, random_state=42)"
   ]
  },
  {
   "cell_type": "code",
   "execution_count": 43,
   "metadata": {},
   "outputs": [
    {
     "name": "stdout",
     "output_type": "stream",
     "text": [
      "91.48858841946829\n",
      "CPU times: user 1.85 ms, sys: 152 µs, total: 2 ms\n",
      "Wall time: 1.22 ms\n"
     ]
    }
   ],
   "source": [
    "%%time\n",
    "\n",
    "new_y_predict = predict(new_X_test, best_theta)\n",
    "score = r2_score(new_y_test, new_y_predict)\n",
    "print(score)"
   ]
  },
  {
   "cell_type": "code",
   "execution_count": null,
   "metadata": {},
   "outputs": [],
   "source": []
  }
 ],
 "metadata": {
  "kernelspec": {
   "display_name": "Python 3",
   "language": "python",
   "name": "python3"
  },
  "language_info": {
   "codemirror_mode": {
    "name": "ipython",
    "version": 3
   },
   "file_extension": ".py",
   "mimetype": "text/x-python",
   "name": "python",
   "nbconvert_exporter": "python",
   "pygments_lexer": "ipython3",
   "version": "3.7.10"
  }
 },
 "nbformat": 4,
 "nbformat_minor": 5
}
